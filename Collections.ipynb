{
 "cells": [
  {
   "cell_type": "markdown",
   "metadata": {
    "collapsed": true
   },
   "source": [
    "## Deque\n",
    "A double-ended queue, or deque, supports adding and removing elements from either end. The more commonly used stacks and queues are degenerate forms of deques, where the inputs and outputs are restricted to a single end. Deque can be implemented in python using the module “collections“. "
   ]
  },
  {
   "cell_type": "code",
   "execution_count": 4,
   "metadata": {},
   "outputs": [
    {
     "name": "stdout",
     "output_type": "stream",
     "text": [
      "Deque:  deque(['a', 'b', 'c', 'd', 'e', 'f', 'g'])\n",
      "Length:  7\n",
      "Left end a\n",
      "Right end g\n",
      "remove(c):  deque(['a', 'b', 'd', 'e', 'f', 'g'])\n"
     ]
    }
   ],
   "source": [
    "import collections\n",
    "\n",
    "d = collections.deque('abcdefg')\n",
    "print ('Deque: ', d)\n",
    "print ('Length: ', len(d))\n",
    "print ('Left end', d[0])\n",
    "print ('Right end', d[-1])\n",
    "\n",
    "d.remove('c')\n",
    "print ('remove(c): ', d)"
   ]
  },
  {
   "cell_type": "markdown",
   "metadata": {},
   "source": [
    "<hr>\n",
    "Deque is preferred over list in the cases where we need quicker append and pop operations from both the ends of container, as deque provides an O(1) time complexity for append and pop operations as compared to list which provides O(n) time complexity.\n",
    "\n",
    "Python lists are much better for random-access and fixed-length operations, including slicing, while deques are much more useful for pushing and popping things off the ends, with indexing (but not slicing, interestingly) being possible but slower than with lists."
   ]
  },
  {
   "cell_type": "code",
   "execution_count": 7,
   "metadata": {},
   "outputs": [
    {
     "name": "stdout",
     "output_type": "stream",
     "text": [
      "Pop from right\n",
      "g\n",
      "f\n",
      "e\n",
      "d\n",
      "c\n",
      "b\n",
      "a\n",
      "Pop from left\n",
      "a\n",
      "b\n",
      "c\n",
      "d\n",
      "e\n",
      "f\n",
      "g\n"
     ]
    }
   ],
   "source": [
    "import collections\n",
    "\n",
    "print ('Pop from right')\n",
    "d = collections.deque('abcdefg')\n",
    "while True:\n",
    "    try:\n",
    "        print (d.pop())\n",
    "    except IndexError:\n",
    "        break\n",
    "\n",
    "print ('Pop from left')\n",
    "d = collections.deque('abcdefg')\n",
    "while True:\n",
    "    try:\n",
    "        print (d.popleft())\n",
    "    except IndexError:\n",
    "        break"
   ]
  },
  {
   "cell_type": "markdown",
   "metadata": {},
   "source": [
    "Deques are thread-safe, the contents can even be consumed from both ends at the same time from separate threads."
   ]
  },
  {
   "cell_type": "code",
   "execution_count": 16,
   "metadata": {},
   "outputs": [
    {
     "name": "stdout",
     "output_type": "stream",
     "text": [
      "deque([0, 1, 2, 3, 4, 5, 6, 7, 8, 9, 10, 11])\n",
      "Left 0Right\n",
      " Left: 011\n",
      "\n",
      "Right: 11\n",
      "Left done\n",
      "Right done\n"
     ]
    }
   ],
   "source": [
    "import collections\n",
    "import threading\n",
    "import time\n",
    "\n",
    "candle = collections.deque((0,1,2,3,4,5,6,7,8,9,10))\n",
    "\n",
    "print (candle)\n",
    "\n",
    "def burn(direction, nextSource):\n",
    "    while True:\n",
    "        try:\n",
    "            n = nextSource()\n",
    "            print (direction, n)\n",
    "        except IndexError:\n",
    "            break\n",
    "        else:\n",
    "            print ('%s: %s' % (direction, n))\n",
    "            time.sleep(0.1)\n",
    "        print ('%s done' % direction)\n",
    "        return\n",
    "    \n",
    "left = threading.Thread(target=burn, args=('Left', candle.popleft))\n",
    "right = threading.Thread(target=burn, args=('Right', candle.pop))\n",
    "\n",
    "left.start()\n",
    "right.start()\n",
    "\n",
    "left.join()\n",
    "right.join()"
   ]
  },
  {
   "cell_type": "markdown",
   "metadata": {},
   "source": [
    "#### Maxlen\n",
    "We can also limit the amount of items a deque can hold. By doing this when we achieve the maximum limit of out deque it will simply pop out the items from the opposite end."
   ]
  },
  {
   "cell_type": "code",
   "execution_count": 23,
   "metadata": {},
   "outputs": [
    {
     "name": "stdout",
     "output_type": "stream",
     "text": [
      "original:  deque([0, 1, 2, 3, 4, 5, 6, 7, 8], maxlen=10)\n",
      "reaching max length deque([0, 1, 2, 3, 4, 5, 6, 7, 8, 9], maxlen=10)\n",
      "adding item to the right deque([1, 2, 3, 4, 5, 6, 7, 8, 9, 10], maxlen=10)\n",
      "adding item to left deque([-1, 1, 2, 3, 4, 5, 6, 7, 8, 9], maxlen=10)\n"
     ]
    }
   ],
   "source": [
    "from collections import deque\n",
    "d = deque([0,1,2,3,4,5,6,7,8], maxlen=10)\n",
    "print ('original: ', d)\n",
    "d.append(9)\n",
    "print ('reaching max length', d)\n",
    "d.append(10)\n",
    "print ('adding item to the right', d)\n",
    "d.appendleft(-1)\n",
    "print ('adding item to left', d)"
   ]
  },
  {
   "cell_type": "markdown",
   "metadata": {},
   "source": [
    "#### Operations on deque :\n",
    "\n",
    "1. append() :- This function is used to insert the value in its argument to the right end of deque.\n",
    "\n",
    "2. appendleft() :- This function is used to insert the value in its argument to the left end of deque.\n",
    "\n",
    "3. pop() :- This function is used to delete an argument from the right end of deque.\n",
    "\n",
    "4. popleft() :- This function is used to delete an argument from the left end of deque.\n",
    "\n",
    "5. index(ele, beg, end) :- This function returns the first index of the value mentioned in arguments, starting searching from beg till end index.\n",
    "\n",
    "6. insert(i, a) :- This function inserts the value mentioned in arguments(a) at index(i) specified in arguments.\n",
    "\n",
    "7. remove() :- This function removes the first occurrence of value mentioned in arguments.\n",
    "\n",
    "8. count() :- This function counts the number of occurrences of value mentioned in arguments.\n",
    "\n",
    "9. extend(iterable) :- This function is used to add multiple values at the right end of deque. The argument passed is an iterable.\n",
    "\n",
    "10. extendleft(iterable) :- This function is used to add multiple values at the left end of deque. The argument passed is an iterable. Order is reversed as a result of left appends.\n",
    "\n",
    "11. reverse() :- This function is used to reverse order of deque elements.\n",
    "\n",
    "12. rotate() :- This function rotates the deque by the number specified in arguments. If the number specified is negative, rotation occurs to left. Else rotation is to right."
   ]
  },
  {
   "cell_type": "code",
   "execution_count": 26,
   "metadata": {},
   "outputs": [
    {
     "name": "stdout",
     "output_type": "stream",
     "text": [
      "The deque after appending at right is: \n",
      "deque([1, 2, 3, 4])\n",
      "The deque after appending at left is: \n",
      "deque([0, 1, 2, 3, 4])\n",
      "The deque after deleting from right is : \n",
      "deque([0, 1, 2, 3])\n",
      "The deque after deleting from left is : \n",
      "deque([1, 2, 3])\n"
     ]
    }
   ],
   "source": [
    "import collections\n",
    "d = collections.deque([1, 2, 3])\n",
    "\n",
    "d.append(4)\n",
    "print (\"The deque after appending at right is: \")\n",
    "print (d)\n",
    "\n",
    "d.appendleft(0)\n",
    "print(\"The deque after appending at left is: \")\n",
    "print (d)\n",
    "\n",
    "d.pop()   ### deletes 4 from right\n",
    "print (\"The deque after deleting from right is : \")\n",
    "print (d)\n",
    "\n",
    "d.popleft()   ### deletes 0 from left\n",
    "print (\"The deque after deleting from left is : \")\n",
    "print (d)"
   ]
  },
  {
   "cell_type": "code",
   "execution_count": 30,
   "metadata": {},
   "outputs": [
    {
     "name": "stdout",
     "output_type": "stream",
     "text": [
      "The number 4 first occurs at a position : \n",
      "3\n",
      "The deque after inserting 3 at 5th position is : \n",
      "deque([1, 2, 3, 4, 3, 3, 2, 4])\n",
      "The count of 3 in deque is : \n",
      "3\n",
      "The deque after deleting first occurrence of 3 is : \n",
      "deque([1, 2, 4, 3, 3, 2, 4])\n"
     ]
    }
   ],
   "source": [
    "import collections\n",
    "\n",
    "d = collections.deque([1, 2, 3, 4, 3, 2, 4])\n",
    "print (\"The number 4 first occurs at a position : \")\n",
    "print (d.index(4, 2, 5))\n",
    "\n",
    "d.insert(4, 3)\n",
    "print (\"The deque after inserting 3 at 5th position is : \")\n",
    "print (d)\n",
    "\n",
    "print (\"The count of 3 in deque is : \")\n",
    "print (d.count(3))\n",
    "\n",
    "d.remove(3)\n",
    "print (\"The deque after deleting first occurrence of 3 is : \")\n",
    "print (d)"
   ]
  },
  {
   "cell_type": "code",
   "execution_count": 33,
   "metadata": {},
   "outputs": [
    {
     "name": "stdout",
     "output_type": "stream",
     "text": [
      "The deque after extending deque at end is : \n",
      "deque([1, 2, 3, 4, 5, 6])\n",
      "The deque after extending deque at beginning is : \n",
      "deque([-2, -1, 0, 1, 2, 3, 4, 5, 6])\n",
      "The deque after right rotation: \n",
      "deque([5, 6, -2, -1, 0, 1, 2, 3, 4])\n",
      "The deque after left rotation: \n",
      "deque([-1, 0, 1, 2, 3, 4, 5, 6, -2])\n",
      "The deque after reversing is : \n",
      "deque([-2, 6, 5, 4, 3, 2, 1, 0, -1])\n"
     ]
    }
   ],
   "source": [
    "import collections\n",
    "\n",
    "d = collections.deque([1, 2, 3])\n",
    "\n",
    "d.extend([4, 5, 6])\n",
    "print (\"The deque after extending deque at end is : \")\n",
    "print (d)\n",
    "\n",
    "d.extendleft([0, -1, -2])\n",
    "print (\"The deque after extending deque at beginning is : \")\n",
    "print (d)\n",
    "\n",
    "d.rotate(2)\n",
    "print ('The deque after right rotation: ')\n",
    "print (d)\n",
    "\n",
    "d.rotate(-3)\n",
    "print ('The deque after left rotation: ')\n",
    "print (d)\n",
    "\n",
    "d.reverse()\n",
    "print (\"The deque after reversing is : \")\n",
    "print (d)"
   ]
  },
  {
   "cell_type": "markdown",
   "metadata": {},
   "source": [
    "<hr>\n",
    "## DefaultDict\n",
    "\n",
    "#### A defaultdict works exactly like a normal dict, but it is initialized with a function (“default factory”) that takes no arguments and provides the default value for a nonexistent key.\n",
    "\n",
    "A defaultdict will never raise a KeyError. Any key that does not exist gets the value returned by the default factory.\n",
    "\n",
    "The standard dictionary includes the method setdefault() for retrieving a value and establishing a default if the value does not exist. By contrast, defaultdict lets the caller specify the default(value to be returned) up front when the container is initialized."
   ]
  },
  {
   "cell_type": "markdown",
   "metadata": {},
   "source": [
    "### How to use defaultdict? \n",
    "    1. Import defaultdict\n",
    "    2. Initialize defaultdict with a callable(mandatory) as primary argument.\n",
    "    3. kwargs as second argument(optional)"
   ]
  },
  {
   "cell_type": "code",
   "execution_count": 15,
   "metadata": {},
   "outputs": [
    {
     "name": "stdout",
     "output_type": "stream",
     "text": [
      "defaultdict with callable as list:  defaultdict(<class 'list'>, {})\n",
      "defaultdict with different callable foo:  defaultdict(<function foo at 0x0000000004F1C510>, {})\n",
      "defaultdict with callable int and kwargs as secondary argument:  defaultdict(<class 'int'>, {'a': 10, 'b': 12, 'c': 13})\n",
      "10\n",
      "0\n",
      "defaultdict with new item d: defaultdict(<class 'int'>, {'a': 10, 'b': 12, 'c': 13, 'd': 0})\n"
     ]
    }
   ],
   "source": [
    "from collections import defaultdict    ### importing\n",
    "\n",
    "d = defaultdict(list)   ## initializing with callable as list\n",
    "\n",
    "def foo():\n",
    "    return 'another default value callable'\n",
    "\n",
    "f = defaultdict(foo)   ## initializing with different callable 'foo'\n",
    "\n",
    "print ('defaultdict with callable as list: ', d)\n",
    "print ('defaultdict with different callable foo: ', f)\n",
    "\n",
    "kwargs = {'a':10,'b':12,'c':13}\n",
    "\n",
    "i = defaultdict(int, **kwargs)  ## initializing with callable 'int' and kwargs as secondary argument\n",
    "\n",
    "print ('defaultdict with callable int and kwargs as secondary argument: ', i)\n",
    "\n",
    "print (i['a'])\n",
    "\n",
    "print (i['d'])     ## not present in dict, default value of int is 0, hence printed 0.\n",
    "\n",
    "print ('defaultdict with new item d:', i)  ## defaultdict with new item d"
   ]
  },
  {
   "cell_type": "markdown",
   "metadata": {},
   "source": [
    "In case if you want to change default value, just overwrite default_factory."
   ]
  },
  {
   "cell_type": "code",
   "execution_count": 19,
   "metadata": {},
   "outputs": [
    {
     "name": "stdout",
     "output_type": "stream",
     "text": [
      "1\n",
      "e added with default value 1 defaultdict(<function <lambda> at 0x0000000004F1C950>, {'a': 10, 'b': 12, 'c': 13, 'e': 1})\n"
     ]
    }
   ],
   "source": [
    "from collections import defaultdict\n",
    "\n",
    "d = defaultdict(int, {'a':10,'b':12,'c':13})  ## initialized by callable int and kwargs\n",
    "\n",
    "d.default_factory = lambda: 1  ## edited default factory to give default value as 1 instead of 0.\n",
    "\n",
    "print (d['e'])  ## 1 is printed\n",
    "\n",
    "print ('e added with default value 1', d)  ## e added with default value 1."
   ]
  },
  {
   "cell_type": "code",
   "execution_count": 9,
   "metadata": {},
   "outputs": [
    {
     "name": "stdout",
     "output_type": "stream",
     "text": [
      "defaultdict(<function <lambda> at 0x000000000361D6A8>, {'Sarah': 'Chunky Monkey', 'Abdul': 'Butter Pecan'})\n",
      "Chunky Monkey\n",
      "Vanilla\n",
      "defaultdict(<function <lambda> at 0x000000000361D6A8>, {'Sarah': 'Chunky Monkey', 'Abdul': 'Butter Pecan', 'Joe': 'Vanilla'})\n"
     ]
    }
   ],
   "source": [
    "from collections import defaultdict\n",
    "\n",
    "ice_cream = defaultdict(lambda: 'Vanilla')  ## setting default value as 'Vanilla'\n",
    "ice_cream['Sarah'] = 'Chunky Monkey'\n",
    "ice_cream['Abdul'] = 'Butter Pecan'\n",
    "print (ice_cream)\n",
    "print (ice_cream['Sarah'])\n",
    "print (ice_cream['Joe'])   ## created new key\n",
    "print (ice_cream)"
   ]
  },
  {
   "cell_type": "markdown",
   "metadata": {},
   "source": [
    "Example of defaultdict being used for counting."
   ]
  },
  {
   "cell_type": "code",
   "execution_count": 7,
   "metadata": {},
   "outputs": [
    {
     "name": "stdout",
     "output_type": "stream",
     "text": [
      "defaultdict(<class 'int'>, {'spam': 5, 'eggs': 1})\n"
     ]
    }
   ],
   "source": [
    "from collections import defaultdict\n",
    "\n",
    "food_list = 'spam spam spam spam spam eggs'.split()\n",
    "\n",
    "food_count = defaultdict(int)  ## default value of int is 0, equivalent to \"lambda: 0\"\n",
    "\n",
    "for food in food_list:\n",
    "    food_count[food] += 1\n",
    "    \n",
    "print (food_count)"
   ]
  },
  {
   "cell_type": "code",
   "execution_count": 20,
   "metadata": {},
   "outputs": [
    {
     "name": "stdout",
     "output_type": "stream",
     "text": [
      "dict_items([('m', 1), ('i', 4), ('s', 4), ('p', 2)])\n"
     ]
    }
   ],
   "source": [
    "from collections import defaultdict\n",
    "\n",
    "s = 'mississippi'\n",
    "d = defaultdict(int)\n",
    "\n",
    "for k in s:\n",
    "    d[k] += 1\n",
    "print (d.items())"
   ]
  },
  {
   "cell_type": "code",
   "execution_count": 1,
   "metadata": {},
   "outputs": [
    {
     "name": "stdout",
     "output_type": "stream",
     "text": [
      "('python', ['awesome', 'language'])\n",
      "('something-else', ['not relevant'])\n"
     ]
    }
   ],
   "source": [
    "from collections import defaultdict\n",
    "\n",
    "d = defaultdict(list)\n",
    "\n",
    "d['python'].append(\"awesome\")\n",
    "d['something-else'].append(\"not relevant\")\n",
    "d['python'].append(\"language\")\n",
    "\n",
    "for i in d.items():\n",
    "    print (i)"
   ]
  },
  {
   "cell_type": "markdown",
   "metadata": {},
   "source": [
    "In conclusion, whenever you need a dictionary, and each element’s value should start with a default value, use a defaultdict.\n",
    "\n",
    "Few inferences from hackerearth\n",
    "1. defaultdict is faster and simpler with small data sets.\n",
    "2. defaultdict is faster for larger data sets with more homogenous key sets.\n",
    "3. setdefault has an advantage over defaultdict if we consider more heterogeneous key sets."
   ]
  },
  {
   "cell_type": "markdown",
   "metadata": {},
   "source": [
    "<hr>\n",
    "## OrderedDict\n",
    "\n",
    "An OrderedDict is a dictionary subclass that remembers the order in which its contents are added. When iterating over an ordered dictionary, the items are returned in the order their keys were first added. If a new entry overwrites an existing entry, the original insertion position is left unchanged. Deleting an entry and reinserting it will move it to the end.\n",
    "\n",
    "Difference between dict() and OrderedDict() is that:\n",
    "OrderedDict preserves the order in which the keys are inserted. A regular dict doesn’t track the insertion order, and iterating it gives the values in an arbitrary order. By contrast, the order the items are inserted is remembered by OrderedDict."
   ]
  },
  {
   "cell_type": "code",
   "execution_count": 35,
   "metadata": {},
   "outputs": [
    {
     "name": "stdout",
     "output_type": "stream",
     "text": [
      "a A\n",
      "b B\n",
      "c C\n",
      "d D\n",
      "e E\n"
     ]
    }
   ],
   "source": [
    "from collections import OrderedDict\n",
    "\n",
    "d = OrderedDict()\n",
    "d['a'] = 'A'\n",
    "d['b'] = 'B'\n",
    "d['c'] = 'C'\n",
    "d['d'] = 'D'\n",
    "d['e'] = 'E'\n",
    "\n",
    "for k,v in d.items():\n",
    "    print (k, v)\n"
   ]
  },
  {
   "cell_type": "markdown",
   "metadata": {},
   "source": [
    "A regular dict looks at its contents when testing for equality. An OrderedDict also considers the order the items were added."
   ]
  },
  {
   "cell_type": "code",
   "execution_count": 33,
   "metadata": {},
   "outputs": [
    {
     "name": "stdout",
     "output_type": "stream",
     "text": [
      "Regular dict: True\n",
      "OrderedDict: False\n"
     ]
    }
   ],
   "source": [
    "from collections import OrderedDict\n",
    "\n",
    "d1 = {}\n",
    "d1['a'] = 'A'\n",
    "d1['b'] = 'B'\n",
    "d1['c'] = 'C'\n",
    "d1['d'] = 'D'\n",
    "d1['e'] = 'E'\n",
    "\n",
    "d2 = {}\n",
    "d2['e'] = 'E'\n",
    "d2['d'] = 'D'\n",
    "d2['c'] = 'C'\n",
    "d2['b'] = 'B'\n",
    "d2['a'] = 'A'\n",
    "\n",
    "print ('Regular dict:', d1 == d2)\n",
    "\n",
    "\n",
    "d1 = OrderedDict()\n",
    "d1['a'] = 'A'\n",
    "d1['b'] = 'B'\n",
    "d1['c'] = 'C'\n",
    "d1['d'] = 'D'\n",
    "d1['e'] = 'E'\n",
    "\n",
    "d2 = OrderedDict()\n",
    "d2['e'] = 'E'\n",
    "d2['d'] = 'D'\n",
    "d2['c'] = 'C'\n",
    "d2['b'] = 'B'\n",
    "d2['a'] = 'A'\n",
    "\n",
    "print ('OrderedDict:', d1 == d2)"
   ]
  },
  {
   "cell_type": "markdown",
   "metadata": {},
   "source": [
    "**Key value Change:** If the value of a certain key is changed, the position of the key remains unchanged in OrderedDict."
   ]
  },
  {
   "cell_type": "code",
   "execution_count": 37,
   "metadata": {},
   "outputs": [
    {
     "name": "stdout",
     "output_type": "stream",
     "text": [
      "Before: \n",
      "a 1\n",
      "b 2\n",
      "c 3\n",
      "d 4\n",
      "\n",
      "After: \n",
      "a 1\n",
      "b 2\n",
      "c 5\n",
      "d 4\n"
     ]
    }
   ],
   "source": [
    "from collections import OrderedDict\n",
    "\n",
    "print ('Before: ')\n",
    "o = OrderedDict()\n",
    "\n",
    "o['a'] = 1\n",
    "o['b'] = 2\n",
    "o['c'] = 3\n",
    "o['d'] = 4\n",
    "\n",
    "for k, v in o.items():\n",
    "    print (k, v)\n",
    "\n",
    "print ('\\nAfter: ')\n",
    "o['c'] = 5\n",
    "\n",
    "for k, v in o.items():\n",
    "    print (k, v)"
   ]
  },
  {
   "cell_type": "markdown",
   "metadata": {},
   "source": [
    "**Deletion and Re-Inserting:** Deleting and re-inserting the same key will push it to the back as OrderedDict however maintains the order of insertion."
   ]
  },
  {
   "cell_type": "code",
   "execution_count": 40,
   "metadata": {},
   "outputs": [
    {
     "name": "stdout",
     "output_type": "stream",
     "text": [
      "Before Deleting: \n",
      "a 1\n",
      "b 2\n",
      "c 3\n",
      "d 4\n",
      "\n",
      "After Deleting:\n",
      "a 1\n",
      "b 2\n",
      "d 4\n",
      "\n",
      "After adding again: \n",
      "a 1\n",
      "b 2\n",
      "d 4\n",
      "c 3\n"
     ]
    }
   ],
   "source": [
    "from collections import OrderedDict\n",
    "\n",
    "print ('Before Deleting: ')\n",
    "o = OrderedDict()\n",
    "o['a'] = 1\n",
    "o['b'] = 2\n",
    "o['c'] = 3\n",
    "o['d'] = 4\n",
    "for k, v in o.items():\n",
    "    print (k, v)\n",
    "\n",
    "print ('\\nAfter Deleting:')\n",
    "o.pop('c')\n",
    "for k, v in o.items():\n",
    "    print (k, v)\n",
    "    \n",
    "print ('\\nAfter adding again: ')\n",
    "o['c'] = 3\n",
    "for k, v in o.items():\n",
    "    print (k, v)"
   ]
  },
  {
   "cell_type": "markdown",
   "metadata": {},
   "source": [
    "#### New methods for OrderedDict introduced in 3.1\n",
    "\n",
    "**popitem(last=True)**:\n",
    "The popitem() method for ordered dictionaries returns and removes a (key, value) pair. The pairs are returned in LIFO order if last is true or FIFO order if false.\n",
    "\n",
    "**move_to_end(key, last=True)**:\n",
    "Move an existing key to either end of an ordered dictionary. The item is moved to the right end if last is true (the default) or to the beginning if last is false. Raises KeyError if the key does not exist."
   ]
  },
  {
   "cell_type": "code",
   "execution_count": 61,
   "metadata": {},
   "outputs": [
    {
     "name": "stdout",
     "output_type": "stream",
     "text": [
      "Dict after popitem with last=True: \n",
      "{'banana': 3, 'apple': 4, 'pear': 1}\n",
      "\n",
      "Dict after popitem with last=False: \n",
      "{'apple': 4, 'pear': 1, 'orange': 2}\n",
      "\n",
      "Dict after move_to_end with last=True: \n",
      "OrderedDict([('banana', 3), ('pear', 1), ('orange', 2), ('apple', 4)])\n",
      "\n",
      "Dict after move_to_end with last=False: \n",
      "OrderedDict([('apple', 4), ('banana', 3), ('pear', 1), ('orange', 2)])\n"
     ]
    }
   ],
   "source": [
    "from collections import OrderedDict\n",
    "\n",
    "d = OrderedDict({'banana': 3, 'apple': 4, 'pear': 1, 'orange': 2})\n",
    "d.popitem(last=True)\n",
    "print ('Dict after popitem with last=True: ')\n",
    "print (dict(d))\n",
    "\n",
    "d = OrderedDict({'banana': 3, 'apple': 4, 'pear': 1, 'orange': 2})\n",
    "d.popitem(last=False)\n",
    "print ('\\nDict after popitem with last=False: ')\n",
    "print (dict(d))\n",
    "\n",
    "d = OrderedDict({'banana': 3, 'apple': 4, 'pear': 1, 'orange': 2})\n",
    "d.move_to_end('apple')\n",
    "print ('\\nDict after move_to_end with last=True: ')\n",
    "print (d)\n",
    "\n",
    "d = OrderedDict({'banana': 3, 'apple': 4, 'pear': 1, 'orange': 2})\n",
    "d.move_to_end('apple', last=False)\n",
    "print ('\\nDict after move_to_end with last=False: ')\n",
    "print (d)"
   ]
  },
  {
   "cell_type": "markdown",
   "metadata": {},
   "source": [
    "Since an ordered dictionary remembers its insertion order, it can be used in conjunction with sorting to make a sorted dictionary.\n",
    "\n",
    "The new sorted dictionaries maintain their sort order when entries are deleted. But when new keys are added, the keys are appended to the end and the sort is not maintained."
   ]
  },
  {
   "cell_type": "code",
   "execution_count": 44,
   "metadata": {},
   "outputs": [
    {
     "name": "stdout",
     "output_type": "stream",
     "text": [
      "dictionary sorted by key: \n",
      "OrderedDict([('apple', 4), ('banana', 3), ('orange', 2), ('pear', 1)])\n",
      "\n",
      "dictionary sorted by value: \n",
      "OrderedDict([('pear', 1), ('orange', 2), ('banana', 3), ('apple', 4)])\n",
      "\n",
      "dictionary sorted by length of the key string: \n",
      "OrderedDict([('pear', 1), ('apple', 4), ('banana', 3), ('orange', 2)])\n"
     ]
    }
   ],
   "source": [
    "from collections import OrderedDict\n",
    "\n",
    "# regular unsorted dictionary\n",
    "d = {'banana': 3, 'apple': 4, 'pear': 1, 'orange': 2}\n",
    "\n",
    "print ('dictionary sorted by key: ')\n",
    "print (OrderedDict(sorted(d.items(), key=lambda t: t[0])))\n",
    "\n",
    "print ('\\ndictionary sorted by value: ')\n",
    "print (OrderedDict(sorted(d.items(), key=lambda t: t[1])))\n",
    "\n",
    "print ('\\ndictionary sorted by length of the key string: ')\n",
    "print (OrderedDict(sorted(d.items(), key=lambda t: len(t[0]))))"
   ]
  },
  {
   "cell_type": "markdown",
   "metadata": {},
   "source": [
    "OrderedDicts support reverse iteration using Python’s reversed built-in function"
   ]
  },
  {
   "cell_type": "code",
   "execution_count": null,
   "metadata": {
    "collapsed": true
   },
   "outputs": [],
   "source": [
    "from collections import OrderedDict\n",
    "\n",
    "d = OrderedDict({'banana': 3, 'apple': 4, 'pear': 1, 'orange': 2})\n",
    "\n",
    "for key in reversed(d):\n",
    "    print (key, d[key])"
   ]
  },
  {
   "cell_type": "markdown",
   "metadata": {},
   "source": [
    "An OrderedDict internally maintains a doubly linked list that orders the keys according\n",
    "to insertion order. When a new item is first inserted, it is placed at the end of this list.\n",
    "Subsequent reassignment of an existing key doesn’t change the order.\n",
    "\n",
    "Be aware that the size of an OrderedDict is more than twice as large as a normal dictionary\n",
    "due to the extra linked list that’s created. Thus, if you are going to build a data\n",
    "structure involving a large number of OrderedDict instances (e.g., reading 100,000 lines\n",
    "of a CSV file into a list of OrderedDict instances), you would need to study the requirements\n",
    "of your application to determine if the benefits of using an OrderedDict\n",
    "outweighed the extra memory overhead."
   ]
  },
  {
   "cell_type": "markdown",
   "metadata": {},
   "source": [
    "<hr>\n",
    "### Counter\n",
    "\n",
    "#### Counter is a dict subclass which helps to count hashable objects. Inside it elements are stored as dictionary keys and counts are stored as values which can be zero or negative."
   ]
  },
  {
   "cell_type": "markdown",
   "metadata": {},
   "source": [
    "#### Initializing\n",
    "Counter supports three forms of initialization. Its constructor can be called with a sequence of items, a dictionary containing keys and counts, or using keyword arguments mapping string names to counts. The results of all three forms of initializing are same."
   ]
  },
  {
   "cell_type": "code",
   "execution_count": 5,
   "metadata": {},
   "outputs": [
    {
     "name": "stdout",
     "output_type": "stream",
     "text": [
      "Counter({'a': 3, 'b': 2, 'c': 1})\n",
      "Counter({'a': 3, 'b': 2, 'c': 1})\n",
      "Counter({'a': 3, 'b': 2, 'c': 1})\n"
     ]
    }
   ],
   "source": [
    "from collections import Counter\n",
    "\n",
    "print (Counter(['a', 'b', 'c', 'b', 'a', 'a']))\n",
    "print (Counter({'a': 3, 'b': 2, 'c': 1}))\n",
    "print (Counter(a=3, b=2, c=1))"
   ]
  },
  {
   "cell_type": "markdown",
   "metadata": {
    "collapsed": true
   },
   "source": [
    "An empty Counter can be constructed with no arguments and populated via update() method (update() introduced in python3.2)."
   ]
  },
  {
   "cell_type": "code",
   "execution_count": 7,
   "metadata": {},
   "outputs": [
    {
     "name": "stdout",
     "output_type": "stream",
     "text": [
      "Empty counter:  Counter()\n",
      "Updated by sequence:  Counter({'a': 2, 'b': 2, 'c': 2, 'd': 2, 'e': 1})\n",
      "Updated by dict:  Counter({'f': 10, 'a': 3, 'b': 2, 'c': 2, 'd': 2, 'e': 1})\n"
     ]
    }
   ],
   "source": [
    "from collections import Counter\n",
    "\n",
    "c = Counter()\n",
    "print ('Empty counter: ', c)\n",
    "\n",
    "c.update('abcdedcba')\n",
    "print ('Updated by sequence: ', c)\n",
    "\n",
    "c.update({'a': 1, 'f':10})\n",
    "print ('Updated by dict: ', c)"
   ]
  },
  {
   "cell_type": "markdown",
   "metadata": {},
   "source": [
    "#### Methods in Counter, added in python 3.1\n",
    "\n",
    "**elements():** Return an iterator over elements repeating each as many times as its count. Elements are returned in arbitrary order. If an element’s count is less than one, elements() will ignore it.\n",
    "\n",
    "**most_common(n):** Return a list of the n most common elements and their counts from the most common to the least. If n is omitted or None, most_common() returns all elements in the counter. Elements with equal counts are ordered arbitrarily:"
   ]
  },
  {
   "cell_type": "code",
   "execution_count": 13,
   "metadata": {},
   "outputs": [
    {
     "name": "stdout",
     "output_type": "stream",
     "text": [
      "<itertools.chain object at 0x0000000004DBB9B0>\n",
      "['a', 'a', 'a', 'a', 'b', 'b']\n",
      "['a', 'a', 'a', 'a', 'b', 'b']\n",
      "[('a', 5), ('b', 2), ('r', 2)]\n",
      "[('a', 5), ('b', 2), ('r', 2), ('c', 1), ('d', 1)]\n"
     ]
    }
   ],
   "source": [
    "from collections import Counter\n",
    "\n",
    "c = Counter(a=4, b=2, c=0, d=-2)\n",
    "\n",
    "print (c.elements())\n",
    "print (sorted(c.elements()))\n",
    "print (list(c.elements()))\n",
    "\n",
    "\n",
    "c = Counter('abracadabra')\n",
    "print (c.most_common(3))\n",
    "print (c.most_common())"
   ]
  },
  {
   "cell_type": "markdown",
   "metadata": {},
   "source": [
    "#### Arithmetic and Set operations"
   ]
  },
  {
   "cell_type": "code",
   "execution_count": 14,
   "metadata": {},
   "outputs": [
    {
     "name": "stdout",
     "output_type": "stream",
     "text": [
      "c1:  Counter({'a': 3, 'b': 2, 'c': 1})\n",
      "c2:  Counter({'a': 2, 'l': 1, 'p': 1, 'h': 1, 'b': 1, 'e': 1, 't': 1})\n",
      "\n",
      "Sum of c1 & c2: \n",
      "Counter({'a': 5, 'b': 3, 'c': 1, 'l': 1, 'p': 1, 'h': 1, 'e': 1, 't': 1})\n",
      "\n",
      "Subtracting c2 from c1: \n",
      "Counter({'a': 1, 'b': 1, 'c': 1})\n",
      "\n",
      "Intersection of c1 and c2 (takes positive minimums): \n",
      "Counter({'a': 2, 'b': 1})\n",
      "\n",
      "Union (takes positive maximum): \n",
      "Counter({'a': 3, 'b': 2, 'c': 1, 'l': 1, 'p': 1, 'h': 1, 'e': 1, 't': 1})\n"
     ]
    }
   ],
   "source": [
    "from collections import Counter\n",
    "\n",
    "c1 = Counter(['a', 'b', 'c', 'a', 'b', 'a'])\n",
    "c2 = Counter('alphabet')\n",
    "\n",
    "print ('c1: ', c1)\n",
    "print ('c2: ', c2)\n",
    "\n",
    "print ('\\nSum of c1 & c2: ')\n",
    "print (c1 + c2)\n",
    "\n",
    "print ('\\nSubtracting c2 from c1: ')\n",
    "print (c1 - c2)\n",
    "\n",
    "print('\\nIntersection of c1 and c2 (takes positive minimums): ')\n",
    "print (c1 & c2)\n",
    "\n",
    "print ('\\nUnion (takes positive maximum): ')\n",
    "print (c1 | c2)"
   ]
  },
  {
   "cell_type": "markdown",
   "metadata": {},
   "source": [
    "<hr>\n",
    "### ChainMap\n",
    "\n",
    "#### A ChainMap groups multiple dicts or other mappings together to create a single, updateable view. If no maps are specified, a single empty dictionary is provided so that a new chain always has at least one mapping.\n",
    "\n",
    "The underlying mappings are stored in a list. That list is public and can be accessed or updated using the maps attribute. There is no other state.\n",
    "\n",
    "Lookups search the underlying mappings successively until a key is found. In contrast, writes, updates, and deletions only operate on the first mapping.\n",
    "\n",
    "A ChainMap incorporates the underlying mappings by reference. So, if one of the underlying mappings gets updated, those changes will be reflected in ChainMap.\n",
    "\n",
    "All of the usual dictionary methods are supported. In addition, there is a maps attribute, a method for creating new subcontexts, and a property for accessing all but the first mapping.\n",
    "\n",
    "Speed tradeoff: suppose you have N layers and at most M keys in each, constructing a ChainMap takes O(N) and each lookup O(N) worst-case[*], while construction of a dict using an update-loop takes O(NM) and each lookup O(1). This means that if you construct often and only perform a few lookups each time, or if M is big, ChainMap's lazy-construction approach works in your favor."
   ]
  },
  {
   "cell_type": "code",
   "execution_count": 1,
   "metadata": {},
   "outputs": [
    {
     "name": "stdout",
     "output_type": "stream",
     "text": [
      "ChainMap({'a': 'A', 'c': 'C'}, {'b': 'B', 'c': 'D'})\n"
     ]
    }
   ],
   "source": [
    "from collections import ChainMap\n",
    "\n",
    "a = {'a': 'A', 'c': 'C'}\n",
    "b = {'b': 'B', 'c': 'D'}\n",
    "\n",
    "m = ChainMap(a,b)\n",
    "\n",
    "print (m)"
   ]
  },
  {
   "cell_type": "markdown",
   "metadata": {},
   "source": [
    "#### Operations on ChainMap\n",
    "\n",
    "**keys()**: This function displays all the keys of all dictionaries in ChainMap\n",
    "\n",
    "**values()**: This funtions displays values of all the dictionaries in ChainMap.\n",
    "\n",
    "**maps**: This functions displays keys with corresponding values of all dictionaries in ChainMap."
   ]
  },
  {
   "cell_type": "code",
   "execution_count": 4,
   "metadata": {},
   "outputs": [
    {
     "name": "stdout",
     "output_type": "stream",
     "text": [
      "All the ChainMap contents are : \n",
      "[{'a': 1, 'b': 2}, {'c': 4, 'b': 3}]\n",
      "\n",
      "All keys of ChainMap are : \n",
      "['b', 'a', 'c']\n",
      "\n",
      "All values of ChainMap are : \n",
      "[2, 1, 4]\n"
     ]
    }
   ],
   "source": [
    "from collections import ChainMap\n",
    "\n",
    "dict1 = {'a': 1, 'b': 2}\n",
    "dict2 = {'c': 4, 'b': 3}\n",
    "\n",
    "chain = ChainMap(dict1, dict2)\n",
    "\n",
    "print (\"All the ChainMap contents are : \")\n",
    "print (chain.maps)\n",
    "\n",
    "print (\"\\nAll keys of ChainMap are : \")\n",
    "print (list(chain.keys()))\n",
    "\n",
    "print (\"\\nAll values of ChainMap are : \")\n",
    "print (list(chain.values()))"
   ]
  },
  {
   "cell_type": "markdown",
   "metadata": {},
   "source": [
    "**new_child()**: This function adds a new dictionary in the beginning of the ChainMap.\n",
    "\n",
    "**reversed()**: This function reverses the relative ordering of dictionaries in ChainMap.\n",
    "\n",
    "**parents**: Property returning a new ChainMap containing all of the maps in the current instance except the first one.  A reference to d.parents is equivalent to: ChainMap(*d.maps[1:])."
   ]
  },
  {
   "cell_type": "code",
   "execution_count": 28,
   "metadata": {},
   "outputs": [
    {
     "name": "stdout",
     "output_type": "stream",
     "text": [
      "Displaying new ChainMap : \n",
      "[{'f': 5}, {'a': 1, 'b': 2}, {'c': 4, 'b': 3}]\n",
      "\n",
      "Value associated with b before reversing is : 2\n",
      "\n",
      "Reversed Chainmap: \n",
      "<list_reverseiterator object at 0x0000000004402748>\n",
      "\n",
      "Value associated with b after reversing is : 3\n",
      "\n",
      "Discarding first mapping:  ChainMap({'c': 4, 'b': 3})\n",
      "\n",
      "Discarding next Mapping:  ChainMap({})\n"
     ]
    }
   ],
   "source": [
    "from collections import ChainMap\n",
    "\n",
    "dict1 = {'a': 1, 'b': 2}\n",
    "dict2 = {'c': 4, 'b': 3}\n",
    "dict3 = {'f': 5}\n",
    "\n",
    "chain = ChainMap(dict1, dict2)\n",
    "\n",
    "chain1 = chain.new_child(dict3)\n",
    "\n",
    "print (\"Displaying new ChainMap : \")\n",
    "print (chain1.maps)\n",
    "\n",
    "print (\"\\nValue associated with b before reversing is : \", end=\"\")\n",
    "print (chain1['b'])\n",
    "\n",
    "chain1.maps = reversed(chain1.maps)\n",
    "\n",
    "print (\"\\nReversed Chainmap: \")\n",
    "print (chain1.maps)\n",
    "\n",
    "print (\"\\nValue associated with b after reversing is : \", end=\"\")\n",
    "print (chain1['b'])\n",
    "\n",
    "chain = chain.parents\n",
    "print ('\\nDiscarding first mapping: ', chain)\n",
    "\n",
    "chain = chain.parents\n",
    "print ('\\nDiscarding next Mapping: ', chain)"
   ]
  },
  {
   "cell_type": "markdown",
   "metadata": {},
   "source": [
    "#### Updating values\n",
    "\n",
    "A Chainmap does not cache the values of the child mappings. Thus if any values are modified, it will reflect in ChainMap as well."
   ]
  },
  {
   "cell_type": "code",
   "execution_count": 13,
   "metadata": {},
   "outputs": [
    {
     "name": "stdout",
     "output_type": "stream",
     "text": [
      "Before: C\n",
      "After : E\n"
     ]
    }
   ],
   "source": [
    "from collections import ChainMap\n",
    "\n",
    "a = {'a': 'A', 'c': 'C'}\n",
    "b = {'b': 'B', 'c': 'D'}\n",
    "\n",
    "m = ChainMap(a, b)\n",
    "print('Before: {}'.format(m['c']))\n",
    "a['c'] = 'E'                       ## Changing value in Dictionary a\n",
    "print('After : {}'.format(m['c']))  ## Changed value reflected in ChainMap"
   ]
  },
  {
   "cell_type": "markdown",
   "metadata": {},
   "source": [
    "It is also possible to modify values through ChainMap, although only first mapping in the chain is actually modified. If the key is not present in the first mapping, but present in the second mapping still it will not change it in the second mapping instead it will create a new key in the first mapping."
   ]
  },
  {
   "cell_type": "code",
   "execution_count": 21,
   "metadata": {},
   "outputs": [
    {
     "name": "stdout",
     "output_type": "stream",
     "text": [
      "Before: ChainMap({'a': 'A', 'c': 'C'}, {'b': 'B', 'c': 'D'}, {'b': 'E', 'd': 'F'})\n",
      "After : ChainMap({'a': 'A', 'c': 'E'}, {'b': 'B', 'c': 'D'}, {'b': 'E', 'd': 'F'})\n",
      "a: {'a': 'A', 'c': 'E'}\n",
      "\n",
      "After : ChainMap({'a': 'A', 'c': 'E', 'b': 'Z'}, {'b': 'B', 'c': 'D'}, {'b': 'E', 'd': 'F'})\n",
      "a: {'a': 'A', 'c': 'E', 'b': 'Z'}\n",
      "b:  {'b': 'B', 'c': 'D'}\n"
     ]
    }
   ],
   "source": [
    "from collections import ChainMap\n",
    "\n",
    "a = {'a': 'A', 'c': 'C'}\n",
    "b = {'b': 'B', 'c': 'D'}\n",
    "c = {'b': 'E', 'd': 'F'}\n",
    "\n",
    "m = ChainMap(a, b, c)\n",
    "print('Before:', m)\n",
    "m['c'] = 'E'          ## Updating c in dict a\n",
    "print('After :', m)\n",
    "print('a:', a)\n",
    "\n",
    "\n",
    "m['b'] = 'Z'          ## updating b in ChainMap m\n",
    "print('\\nAfter :', m)\n",
    "print('a:' , a)       ## Dict a is updated as it is first mapping\n",
    "print ('b: ', b)      ## Dict b is not updated as it is second mapping"
   ]
  },
  {
   "cell_type": "markdown",
   "metadata": {},
   "source": [
    "<hr>\n",
    "### Namedtuple\n",
    "\n",
    "#### Python supports a type of container like dictionaries called “namedtuples()” present in module, “collection“. Like dictionaries they contain keys that are hashed to a particular value. But on contrary, it supports both access from key value and iteration, the functionality that dictionaries lack. Also they are immutable unlike dictionaries\n"
   ]
  },
  {
   "cell_type": "code",
   "execution_count": 30,
   "metadata": {},
   "outputs": [
    {
     "name": "stdout",
     "output_type": "stream",
     "text": [
      "Animal(name='perry', age=12, type='cat')\n",
      "perry\n"
     ]
    }
   ],
   "source": [
    "from collections import namedtuple\n",
    "\n",
    "Animal = namedtuple('Animal', 'name age type')\n",
    "perry = Animal(name='perry', age=12, type='cat')\n",
    "\n",
    "print (perry)\n",
    "print (perry.name)"
   ]
  },
  {
   "cell_type": "markdown",
   "metadata": {},
   "source": [
    "A named tuple has two required arguments. They are the tuple name and the tuple field_names. In the above example our tuple name was ‘Animal’ and the tuple field_names were ‘name’, ‘age’ and ‘type’.\n",
    "\n",
    "Also, you are not bound to use integer indexes to access members of a tuple, it makes it more easy to maintain your code. Moreover, as namedtuple instances do not have per-instance dictionaries, they are lightweight and require no more memory than regular tuples. This makes them faster than dictionaries.\n",
    "\n",
    "However, do remember that as with tuples, attributes in namedtuples are immutable."
   ]
  },
  {
   "cell_type": "code",
   "execution_count": 31,
   "metadata": {},
   "outputs": [
    {
     "ename": "AttributeError",
     "evalue": "can't set attribute",
     "output_type": "error",
     "traceback": [
      "\u001b[1;31m---------------------------------------------------------------------------\u001b[0m",
      "\u001b[1;31mAttributeError\u001b[0m                            Traceback (most recent call last)",
      "\u001b[1;32m<ipython-input-31-ae03daed0afd>\u001b[0m in \u001b[0;36m<module>\u001b[1;34m()\u001b[0m\n\u001b[1;32m----> 1\u001b[1;33m \u001b[0mperry\u001b[0m\u001b[1;33m.\u001b[0m\u001b[0mage\u001b[0m \u001b[1;33m=\u001b[0m \u001b[1;36m13\u001b[0m\u001b[1;33m\u001b[0m\u001b[0m\n\u001b[0m",
      "\u001b[1;31mAttributeError\u001b[0m: can't set attribute"
     ]
    }
   ],
   "source": [
    "perry.age = 13"
   ]
  },
  {
   "cell_type": "markdown",
   "metadata": {},
   "source": [
    "We should use named tuples to make your code self-documenting. They are backwards compatible with normal tuples. It means that you can use integer indexes with namedtuples as well"
   ]
  },
  {
   "cell_type": "code",
   "execution_count": 33,
   "metadata": {},
   "outputs": [
    {
     "name": "stdout",
     "output_type": "stream",
     "text": [
      "perry 12 cat\n"
     ]
    }
   ],
   "source": [
    "print (perry[0], perry[1], perry[2])"
   ]
  },
  {
   "cell_type": "markdown",
   "metadata": {},
   "source": [
    "We can also convert a namedtuple to a dictionary."
   ]
  },
  {
   "cell_type": "code",
   "execution_count": 36,
   "metadata": {
    "scrolled": true
   },
   "outputs": [
    {
     "data": {
      "text/plain": [
       "OrderedDict([('name', 'perry'), ('age', 14), ('type', 'cat')])"
      ]
     },
     "execution_count": 36,
     "metadata": {},
     "output_type": "execute_result"
    }
   ],
   "source": [
    "from collections import namedtuple\n",
    "\n",
    "Animal = namedtuple('Animal', 'name age type')\n",
    "perry = Animal(name='perry', age=14, type='cat')\n",
    "perry._asdict()   ### This will convert namedtuple to ordereddictb"
   ]
  },
  {
   "cell_type": "markdown",
   "metadata": {},
   "source": [
    "#### Operations on namedtuple\n",
    "\n",
    "** Access by index**: The attribute values of namedtuple() are ordered and can be accessed using the index number unlike dictionaries which are not accessible by index.\n",
    "\n",
    "**Access by keyname**: Access by keyname is allowed\n",
    "\n",
    "**getattr()**: This is another way to access the value by giving namedtuple and key value as its argument."
   ]
  },
  {
   "cell_type": "code",
   "execution_count": 39,
   "metadata": {
    "scrolled": true
   },
   "outputs": [
    {
     "name": "stdout",
     "output_type": "stream",
     "text": [
      "The Student age accessing by index is : 16\n",
      "\n",
      "The Student name accessing by keyname is : Ram\n",
      "\n",
      "The student DOB accessign by getattr() is : 11-03-2001\n"
     ]
    }
   ],
   "source": [
    "from collections import namedtuple\n",
    "\n",
    "student = namedtuple('student', ['name', 'age', 'DOB'])\n",
    "s = student('Ram', 16, '11-03-2001')\n",
    "\n",
    "print (\"The Student age accessing by index is : \", end =\"\")\n",
    "print (s[1])\n",
    "\n",
    "print (\"\\nThe Student name accessing by keyname is : \", end =\"\")\n",
    "print (s.name)\n",
    "\n",
    "print (\"\\nThe student DOB accessign by getattr() is : \", end=\"\")\n",
    "print (getattr(s, 'DOB'))"
   ]
  },
  {
   "cell_type": "markdown",
   "metadata": {},
   "source": [
    "**_make()**: This function is used to return a namedtuple from the iterablepassed as argument.\n",
    "\n",
    "**_asdict()**: This function returns the OrderedDict() as constructed from mapped values of namedtuple()\n",
    "\n",
    "__** (double star)__: This functions is used to convert a dictionary into namedtuple(). "
   ]
  },
  {
   "cell_type": "code",
   "execution_count": 44,
   "metadata": {},
   "outputs": [
    {
     "name": "stdout",
     "output_type": "stream",
     "text": [
      "The namedtuple instance using iterable is  : \n",
      "student(name='Manjeet', age=19, DOB='04-11-1997')\n",
      "\n",
      "The OrderedDict instance using namedtuple is  : \n",
      "OrderedDict([('name', 'Ram'), ('age', 16), ('DOB', '11-03-2001')])\n",
      "\n",
      "The namedtuple instance from dict is  : \n",
      "student(name='Nikhil', age=19, DOB='1391997')\n"
     ]
    }
   ],
   "source": [
    "from collections import namedtuple\n",
    "\n",
    "student = namedtuple('student', ['name', 'age', 'DOB'])\n",
    "s = student('Ram', 16, '11-03-2001')\n",
    "\n",
    "# initializing iterable \n",
    "l = ['Manjeet', 19, '04-11-1997' ]\n",
    "print (\"The namedtuple instance using iterable is  : \")\n",
    "print (student._make(l))\n",
    "\n",
    "print (\"\\nThe OrderedDict instance using namedtuple is  : \")\n",
    "print (s._asdict())\n",
    "\n",
    "# initializing dict\n",
    "d = { 'name' : \"Nikhil\", 'age' : 19 , 'DOB' : '1391997' }\n",
    "print (\"\\nThe namedtuple instance from dict is  : \")\n",
    "print (student(**d))"
   ]
  },
  {
   "cell_type": "markdown",
   "metadata": {},
   "source": [
    "**_fields**: This function returns all the keynames of the namespaces declared.\n",
    "\n",
    "**_replace()**: Since namedtuples are immutable, this function is used to change the values mapped with passed keyname."
   ]
  },
  {
   "cell_type": "code",
   "execution_count": 47,
   "metadata": {},
   "outputs": [
    {
     "name": "stdout",
     "output_type": "stream",
     "text": [
      "All the fields of students are : \n",
      "('name', 'age', 'DOB')\n",
      "\n",
      "The modified namedtuple is : \n",
      "student(name='Shyam', age=16, DOB='11-03-2001')\n"
     ]
    }
   ],
   "source": [
    "from collections import namedtuple\n",
    "\n",
    "student = namedtuple('student', ['name', 'age', 'DOB'])\n",
    "s = student('Ram', 16, '11-03-2001')\n",
    "\n",
    "print (\"All the fields of students are : \")\n",
    "print (s._fields)\n",
    "\n",
    "print (\"\\nThe modified namedtuple is : \")\n",
    "print(s._replace(name = 'Shyam'))"
   ]
  },
  {
   "cell_type": "markdown",
   "metadata": {},
   "source": [
    "`collection.namedtuple` is a memory-efficient shortcut to defining an immutable class in Python manually.\n",
    "\n",
    "Namedtuples can help clean up your code by enforcing an easier to understand structure on your data.\n",
    "\n",
    "Namedtuples provide a few useful helper methods that all start with an _ underscore—but are part of the public interface. It’s okay to use them."
   ]
  }
 ],
 "metadata": {
  "kernelspec": {
   "display_name": "Python 3",
   "language": "python",
   "name": "python3"
  },
  "language_info": {
   "codemirror_mode": {
    "name": "ipython",
    "version": 3
   },
   "file_extension": ".py",
   "mimetype": "text/x-python",
   "name": "python",
   "nbconvert_exporter": "python",
   "pygments_lexer": "ipython3",
   "version": "3.6.3"
  }
 },
 "nbformat": 4,
 "nbformat_minor": 2
}
