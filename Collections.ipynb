{
 "cells": [
  {
   "cell_type": "markdown",
   "metadata": {
    "collapsed": true
   },
   "source": [
    "## Deque\n",
    "A double-ended queue, or deque, supports adding and removing elements from either end. The more commonly used stacks and queues are degenerate forms of deques, where the inputs and outputs are restricted to a single end. Deque can be implemented in python using the module “collections“. "
   ]
  },
  {
   "cell_type": "code",
   "execution_count": 4,
   "metadata": {},
   "outputs": [
    {
     "name": "stdout",
     "output_type": "stream",
     "text": [
      "Deque:  deque(['a', 'b', 'c', 'd', 'e', 'f', 'g'])\n",
      "Length:  7\n",
      "Left end a\n",
      "Right end g\n",
      "remove(c):  deque(['a', 'b', 'd', 'e', 'f', 'g'])\n"
     ]
    }
   ],
   "source": [
    "import collections\n",
    "\n",
    "d = collections.deque('abcdefg')\n",
    "print ('Deque: ', d)\n",
    "print ('Length: ', len(d))\n",
    "print ('Left end', d[0])\n",
    "print ('Right end', d[-1])\n",
    "\n",
    "d.remove('c')\n",
    "print ('remove(c): ', d)"
   ]
  },
  {
   "cell_type": "markdown",
   "metadata": {},
   "source": [
    "<hr>\n",
    "Deque is preferred over list in the cases where we need quicker append and pop operations from both the ends of container, as deque provides an O(1) time complexity for append and pop operations as compared to list which provides O(n) time complexity.\n",
    "\n",
    "Python lists are much better for random-access and fixed-length operations, including slicing, while deques are much more useful for pushing and popping things off the ends, with indexing (but not slicing, interestingly) being possible but slower than with lists."
   ]
  },
  {
   "cell_type": "code",
   "execution_count": 7,
   "metadata": {},
   "outputs": [
    {
     "name": "stdout",
     "output_type": "stream",
     "text": [
      "Pop from right\n",
      "g\n",
      "f\n",
      "e\n",
      "d\n",
      "c\n",
      "b\n",
      "a\n",
      "Pop from left\n",
      "a\n",
      "b\n",
      "c\n",
      "d\n",
      "e\n",
      "f\n",
      "g\n"
     ]
    }
   ],
   "source": [
    "import collections\n",
    "\n",
    "print ('Pop from right')\n",
    "d = collections.deque('abcdefg')\n",
    "while True:\n",
    "    try:\n",
    "        print (d.pop())\n",
    "    except IndexError:\n",
    "        break\n",
    "\n",
    "print ('Pop from left')\n",
    "d = collections.deque('abcdefg')\n",
    "while True:\n",
    "    try:\n",
    "        print (d.popleft())\n",
    "    except IndexError:\n",
    "        break"
   ]
  },
  {
   "cell_type": "markdown",
   "metadata": {},
   "source": [
    "<hr>\n",
    "Deques are thread-safe, the contents can even be consumed from both ends at the same time from separate threads."
   ]
  },
  {
   "cell_type": "code",
   "execution_count": 16,
   "metadata": {},
   "outputs": [
    {
     "name": "stdout",
     "output_type": "stream",
     "text": [
      "deque([0, 1, 2, 3, 4, 5, 6, 7, 8, 9, 10, 11])\n",
      "Left 0Right\n",
      " Left: 011\n",
      "\n",
      "Right: 11\n",
      "Left done\n",
      "Right done\n"
     ]
    }
   ],
   "source": [
    "import collections\n",
    "import threading\n",
    "import time\n",
    "\n",
    "candle = collections.deque((0,1,2,3,4,5,6,7,8,9,10))\n",
    "\n",
    "print (candle)\n",
    "\n",
    "def burn(direction, nextSource):\n",
    "    while True:\n",
    "        try:\n",
    "            n = nextSource()\n",
    "            print (direction, n)\n",
    "        except IndexError:\n",
    "            break\n",
    "        else:\n",
    "            print ('%s: %s' % (direction, n))\n",
    "            time.sleep(0.1)\n",
    "        print ('%s done' % direction)\n",
    "        return\n",
    "    \n",
    "left = threading.Thread(target=burn, args=('Left', candle.popleft))\n",
    "right = threading.Thread(target=burn, args=('Right', candle.pop))\n",
    "\n",
    "left.start()\n",
    "right.start()\n",
    "\n",
    "left.join()\n",
    "right.join()"
   ]
  },
  {
   "cell_type": "markdown",
   "metadata": {},
   "source": [
    "<hr>\n",
    "#### Maxlen\n",
    "We can also limit the amount of items a deque can hold. By doing this when we achieve the maximum limit of out deque it will simply pop out the items from the opposite end."
   ]
  },
  {
   "cell_type": "code",
   "execution_count": 23,
   "metadata": {},
   "outputs": [
    {
     "name": "stdout",
     "output_type": "stream",
     "text": [
      "original:  deque([0, 1, 2, 3, 4, 5, 6, 7, 8], maxlen=10)\n",
      "reaching max length deque([0, 1, 2, 3, 4, 5, 6, 7, 8, 9], maxlen=10)\n",
      "adding item to the right deque([1, 2, 3, 4, 5, 6, 7, 8, 9, 10], maxlen=10)\n",
      "adding item to left deque([-1, 1, 2, 3, 4, 5, 6, 7, 8, 9], maxlen=10)\n"
     ]
    }
   ],
   "source": [
    "from collections import deque\n",
    "d = deque([0,1,2,3,4,5,6,7,8], maxlen=10)\n",
    "print ('original: ', d)\n",
    "d.append(9)\n",
    "print ('reaching max length', d)\n",
    "d.append(10)\n",
    "print ('adding item to the right', d)\n",
    "d.appendleft(-1)\n",
    "print ('adding item to left', d)"
   ]
  },
  {
   "cell_type": "markdown",
   "metadata": {},
   "source": [
    "#### Operations on deque :\n",
    "\n",
    "1. append() :- This function is used to insert the value in its argument to the right end of deque.\n",
    "\n",
    "2. appendleft() :- This function is used to insert the value in its argument to the left end of deque.\n",
    "\n",
    "3. pop() :- This function is used to delete an argument from the right end of deque.\n",
    "\n",
    "4. popleft() :- This function is used to delete an argument from the left end of deque.\n",
    "\n",
    "5. index(ele, beg, end) :- This function returns the first index of the value mentioned in arguments, starting searching from beg till end index.\n",
    "\n",
    "6. insert(i, a) :- This function inserts the value mentioned in arguments(a) at index(i) specified in arguments.\n",
    "\n",
    "7. remove() :- This function removes the first occurrence of value mentioned in arguments.\n",
    "\n",
    "8. count() :- This function counts the number of occurrences of value mentioned in arguments.\n",
    "\n",
    "9. extend(iterable) :- This function is used to add multiple values at the right end of deque. The argument passed is an iterable.\n",
    "\n",
    "10. extendleft(iterable) :- This function is used to add multiple values at the left end of deque. The argument passed is an iterable. Order is reversed as a result of left appends.\n",
    "\n",
    "11. reverse() :- This function is used to reverse order of deque elements.\n",
    "\n",
    "12. rotate() :- This function rotates the deque by the number specified in arguments. If the number specified is negative, rotation occurs to left. Else rotation is to right."
   ]
  },
  {
   "cell_type": "code",
   "execution_count": 26,
   "metadata": {},
   "outputs": [
    {
     "name": "stdout",
     "output_type": "stream",
     "text": [
      "The deque after appending at right is: \n",
      "deque([1, 2, 3, 4])\n",
      "The deque after appending at left is: \n",
      "deque([0, 1, 2, 3, 4])\n",
      "The deque after deleting from right is : \n",
      "deque([0, 1, 2, 3])\n",
      "The deque after deleting from left is : \n",
      "deque([1, 2, 3])\n"
     ]
    }
   ],
   "source": [
    "import collections\n",
    "d = collections.deque([1, 2, 3])\n",
    "\n",
    "d.append(4)\n",
    "print (\"The deque after appending at right is: \")\n",
    "print (d)\n",
    "\n",
    "d.appendleft(0)\n",
    "print(\"The deque after appending at left is: \")\n",
    "print (d)\n",
    "\n",
    "d.pop()   ### deletes 4 from right\n",
    "print (\"The deque after deleting from right is : \")\n",
    "print (d)\n",
    "\n",
    "d.popleft()   ### deletes 0 from left\n",
    "print (\"The deque after deleting from left is : \")\n",
    "print (d)"
   ]
  },
  {
   "cell_type": "code",
   "execution_count": 30,
   "metadata": {},
   "outputs": [
    {
     "name": "stdout",
     "output_type": "stream",
     "text": [
      "The number 4 first occurs at a position : \n",
      "3\n",
      "The deque after inserting 3 at 5th position is : \n",
      "deque([1, 2, 3, 4, 3, 3, 2, 4])\n",
      "The count of 3 in deque is : \n",
      "3\n",
      "The deque after deleting first occurrence of 3 is : \n",
      "deque([1, 2, 4, 3, 3, 2, 4])\n"
     ]
    }
   ],
   "source": [
    "import collections\n",
    "\n",
    "d = collections.deque([1, 2, 3, 4, 3, 2, 4])\n",
    "print (\"The number 4 first occurs at a position : \")\n",
    "print (d.index(4, 2, 5))\n",
    "\n",
    "d.insert(4, 3)\n",
    "print (\"The deque after inserting 3 at 5th position is : \")\n",
    "print (d)\n",
    "\n",
    "print (\"The count of 3 in deque is : \")\n",
    "print (d.count(3))\n",
    "\n",
    "d.remove(3)\n",
    "print (\"The deque after deleting first occurrence of 3 is : \")\n",
    "print (d)"
   ]
  },
  {
   "cell_type": "code",
   "execution_count": 33,
   "metadata": {},
   "outputs": [
    {
     "name": "stdout",
     "output_type": "stream",
     "text": [
      "The deque after extending deque at end is : \n",
      "deque([1, 2, 3, 4, 5, 6])\n",
      "The deque after extending deque at beginning is : \n",
      "deque([-2, -1, 0, 1, 2, 3, 4, 5, 6])\n",
      "The deque after right rotation: \n",
      "deque([5, 6, -2, -1, 0, 1, 2, 3, 4])\n",
      "The deque after left rotation: \n",
      "deque([-1, 0, 1, 2, 3, 4, 5, 6, -2])\n",
      "The deque after reversing is : \n",
      "deque([-2, 6, 5, 4, 3, 2, 1, 0, -1])\n"
     ]
    }
   ],
   "source": [
    "import collections\n",
    "\n",
    "d = collections.deque([1, 2, 3])\n",
    "\n",
    "d.extend([4, 5, 6])\n",
    "print (\"The deque after extending deque at end is : \")\n",
    "print (d)\n",
    "\n",
    "d.extendleft([0, -1, -2])\n",
    "print (\"The deque after extending deque at beginning is : \")\n",
    "print (d)\n",
    "\n",
    "d.rotate(2)\n",
    "print ('The deque after right rotation: ')\n",
    "print (d)\n",
    "\n",
    "d.rotate(-3)\n",
    "print ('The deque after left rotation: ')\n",
    "print (d)\n",
    "\n",
    "d.reverse()\n",
    "print (\"The deque after reversing is : \")\n",
    "print (d)"
   ]
  },
  {
   "cell_type": "markdown",
   "metadata": {},
   "source": [
    "<hr>\n",
    "## DefaultDict\n",
    "\n",
    "#### A defaultdict works exactly like a normal dict, but it is initialized with a function (“default factory”) that takes no arguments and provides the default value for a nonexistent key.\n",
    "\n",
    "A defaultdict will never raise a KeyError. Any key that does not exist gets the value returned by the default factory.\n",
    "\n",
    "The standard dictionary includes the method setdefault() for retrieving a value and establishing a default if the value does not exist. By contrast, defaultdict lets the caller specify the default(value to be returned) up front when the container is initialized."
   ]
  },
  {
   "cell_type": "markdown",
   "metadata": {},
   "source": [
    "### How to use defaultdict? \n",
    "    1. Import defaultdict\n",
    "    2. Initialize defaultdict with a callable(mandatory) as primary argument.\n",
    "    3. kwargs as second argument(optional)"
   ]
  },
  {
   "cell_type": "code",
   "execution_count": 15,
   "metadata": {},
   "outputs": [
    {
     "name": "stdout",
     "output_type": "stream",
     "text": [
      "defaultdict with callable as list:  defaultdict(<class 'list'>, {})\n",
      "defaultdict with different callable foo:  defaultdict(<function foo at 0x0000000004F1C510>, {})\n",
      "defaultdict with callable int and kwargs as secondary argument:  defaultdict(<class 'int'>, {'a': 10, 'b': 12, 'c': 13})\n",
      "10\n",
      "0\n",
      "defaultdict with new item d: defaultdict(<class 'int'>, {'a': 10, 'b': 12, 'c': 13, 'd': 0})\n"
     ]
    }
   ],
   "source": [
    "from collections import defaultdict    ### importing\n",
    "\n",
    "d = defaultdict(list)   ## initializing with callable as list\n",
    "\n",
    "def foo():\n",
    "    return 'another default value callable'\n",
    "\n",
    "f = defaultdict(foo)   ## initializing with different callable 'foo'\n",
    "\n",
    "print ('defaultdict with callable as list: ', d)\n",
    "print ('defaultdict with different callable foo: ', f)\n",
    "\n",
    "kwargs = {'a':10,'b':12,'c':13}\n",
    "\n",
    "i = defaultdict(int, **kwargs)  ## initializing with callable 'int' and kwargs as secondary argument\n",
    "\n",
    "print ('defaultdict with callable int and kwargs as secondary argument: ', i)\n",
    "\n",
    "print (i['a'])\n",
    "\n",
    "print (i['d'])     ## not present in dict, default value of int is 0, hence printed 0.\n",
    "\n",
    "print ('defaultdict with new item d:', i)  ## defaultdict with new item d"
   ]
  },
  {
   "cell_type": "markdown",
   "metadata": {},
   "source": [
    "In case if you want to change default value, just overwrite default_factory."
   ]
  },
  {
   "cell_type": "code",
   "execution_count": 19,
   "metadata": {},
   "outputs": [
    {
     "name": "stdout",
     "output_type": "stream",
     "text": [
      "1\n",
      "e added with default value 1 defaultdict(<function <lambda> at 0x0000000004F1C950>, {'a': 10, 'b': 12, 'c': 13, 'e': 1})\n"
     ]
    }
   ],
   "source": [
    "from collections import defaultdict\n",
    "\n",
    "d = defaultdict(int, {'a':10,'b':12,'c':13})  ## initialized by callable int and kwargs\n",
    "\n",
    "d.default_factory = lambda: 1  ## edited default factory to give default value as 1 instead of 0.\n",
    "\n",
    "print (d['e'])  ## 1 is printed\n",
    "\n",
    "print ('e added with default value 1', d)  ## e added with default value 1."
   ]
  },
  {
   "cell_type": "code",
   "execution_count": 9,
   "metadata": {},
   "outputs": [
    {
     "name": "stdout",
     "output_type": "stream",
     "text": [
      "defaultdict(<function <lambda> at 0x000000000361D6A8>, {'Sarah': 'Chunky Monkey', 'Abdul': 'Butter Pecan'})\n",
      "Chunky Monkey\n",
      "Vanilla\n",
      "defaultdict(<function <lambda> at 0x000000000361D6A8>, {'Sarah': 'Chunky Monkey', 'Abdul': 'Butter Pecan', 'Joe': 'Vanilla'})\n"
     ]
    }
   ],
   "source": [
    "from collections import defaultdict\n",
    "\n",
    "ice_cream = defaultdict(lambda: 'Vanilla')  ## setting default value as 'Vanilla'\n",
    "ice_cream['Sarah'] = 'Chunky Monkey'\n",
    "ice_cream['Abdul'] = 'Butter Pecan'\n",
    "print (ice_cream)\n",
    "print (ice_cream['Sarah'])\n",
    "print (ice_cream['Joe'])   ## created new key\n",
    "print (ice_cream)"
   ]
  },
  {
   "cell_type": "markdown",
   "metadata": {},
   "source": [
    "Example of defaultdict being used for counting."
   ]
  },
  {
   "cell_type": "code",
   "execution_count": 7,
   "metadata": {},
   "outputs": [
    {
     "name": "stdout",
     "output_type": "stream",
     "text": [
      "defaultdict(<class 'int'>, {'spam': 5, 'eggs': 1})\n"
     ]
    }
   ],
   "source": [
    "from collections import defaultdict\n",
    "\n",
    "food_list = 'spam spam spam spam spam eggs'.split()\n",
    "\n",
    "food_count = defaultdict(int)  ## default value of int is 0, equivalent to \"lambda: 0\"\n",
    "\n",
    "for food in food_list:\n",
    "    food_count[food] += 1\n",
    "    \n",
    "print (food_count)"
   ]
  },
  {
   "cell_type": "code",
   "execution_count": 20,
   "metadata": {},
   "outputs": [
    {
     "name": "stdout",
     "output_type": "stream",
     "text": [
      "dict_items([('m', 1), ('i', 4), ('s', 4), ('p', 2)])\n"
     ]
    }
   ],
   "source": [
    "from collections import defaultdict\n",
    "\n",
    "s = 'mississippi'\n",
    "d = defaultdict(int)\n",
    "\n",
    "for k in s:\n",
    "    d[k] += 1\n",
    "print (d.items())"
   ]
  },
  {
   "cell_type": "code",
   "execution_count": 1,
   "metadata": {},
   "outputs": [
    {
     "name": "stdout",
     "output_type": "stream",
     "text": [
      "('python', ['awesome', 'language'])\n",
      "('something-else', ['not relevant'])\n"
     ]
    }
   ],
   "source": [
    "from collections import defaultdict\n",
    "\n",
    "d = defaultdict(list)\n",
    "\n",
    "d['python'].append(\"awesome\")\n",
    "d['something-else'].append(\"not relevant\")\n",
    "d['python'].append(\"language\")\n",
    "\n",
    "for i in d.items():\n",
    "    print (i)"
   ]
  },
  {
   "cell_type": "markdown",
   "metadata": {},
   "source": [
    "In conclusion, whenever you need a dictionary, and each element’s value should start with a default value, use a defaultdict.\n",
    "\n",
    "Few inferences from hackerearth\n",
    "1. defaultdict is faster and simpler with small data sets.\n",
    "2. defaultdict is faster for larger data sets with more homogenous key sets.\n",
    "3. setdefault has an advantage over defaultdict if we consider more heterogeneous key sets."
   ]
  },
  {
   "cell_type": "markdown",
   "metadata": {},
   "source": [
    "<hr>\n",
    "## OrderedDict\n"
   ]
  }
 ],
 "metadata": {
  "kernelspec": {
   "display_name": "Python 3",
   "language": "python",
   "name": "python3"
  },
  "language_info": {
   "codemirror_mode": {
    "name": "ipython",
    "version": 3
   },
   "file_extension": ".py",
   "mimetype": "text/x-python",
   "name": "python",
   "nbconvert_exporter": "python",
   "pygments_lexer": "ipython3",
   "version": "3.6.3"
  }
 },
 "nbformat": 4,
 "nbformat_minor": 2
}
