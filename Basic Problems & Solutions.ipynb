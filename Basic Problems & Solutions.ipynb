{
 "cells": [
  {
   "cell_type": "markdown",
   "metadata": {},
   "source": [
    "## Unpacking Elements from Iterables of Arbitrary Length\n",
    "\n",
    "Python **'star expressions'** can be used to address this problem (Python 3)\n"
   ]
  },
  {
   "cell_type": "code",
   "execution_count": 10,
   "metadata": {},
   "outputs": [
    {
     "name": "stdout",
     "output_type": "stream",
     "text": [
      "Name:  Dave\n",
      "Email:  dave@example.com\n",
      "Phone Number:  ['773-555-1212', '847-555-1212']\n"
     ]
    }
   ],
   "source": [
    "user_record = ('Dave', 'dave@example.com', '773-555-1212', '847-555-1212')\n",
    "name, email, *phone_numbers = user_record\n",
    "\n",
    "print (\"Name: \", name)\n",
    "print (\"Email: \", email)\n",
    "print (\"Phone Number: \", phone_numbers)"
   ]
  },
  {
   "cell_type": "markdown",
   "metadata": {},
   "source": [
    "<hr>\n",
    "#### The starred variable can also be the first one in the list."
   ]
  },
  {
   "cell_type": "code",
   "execution_count": 20,
   "metadata": {},
   "outputs": [
    {
     "name": "stdout",
     "output_type": "stream",
     "text": [
      "[10, 8, 7, 1, 9, 5, 10]\n",
      "3\n"
     ]
    }
   ],
   "source": [
    "*trailing, current = [10, 8, 7, 1, 9, 5, 10, 3]\n",
    "print (trailing)\n",
    "print (current)"
   ]
  },
  {
   "cell_type": "markdown",
   "metadata": {},
   "source": [
    "#### It is worth noting that the star syntax can be especially useful when iterating over a sequence of tuples of varying length."
   ]
  },
  {
   "cell_type": "code",
   "execution_count": 12,
   "metadata": {},
   "outputs": [
    {
     "name": "stdout",
     "output_type": "stream",
     "text": [
      "foo 1 2\n",
      "bar hello\n",
      "foo 3 4\n"
     ]
    }
   ],
   "source": [
    "\n",
    "records = [\n",
    "    ('foo', 1, 2),\n",
    "    ('bar', 'hello'),\n",
    "    ('foo', 3, 4),\n",
    "]\n",
    "def do_foo(x, y):\n",
    "    print('foo', x, y)\n",
    "def do_bar(s):\n",
    "    print('bar', s)\n",
    "for tag, *args in records:\n",
    "    if tag == 'foo':\n",
    "        do_foo(*args)\n",
    "    elif tag == 'bar':\n",
    "        do_bar(*args)"
   ]
  },
  {
   "cell_type": "markdown",
   "metadata": {},
   "source": [
    "<hr>\n",
    "#### Star unpacking can also be useful when combined with certain kinds of string processing operations, such as splitting."
   ]
  },
  {
   "cell_type": "code",
   "execution_count": 22,
   "metadata": {},
   "outputs": [
    {
     "name": "stdout",
     "output_type": "stream",
     "text": [
      "nobody\n",
      "/var/empty\n",
      "/usr/bin/false\n"
     ]
    }
   ],
   "source": [
    "\n",
    "line = 'nobody:*:-2:-2:Unprivileged User:/var/empty:/usr/bin/false'\n",
    "uname, *fields, homedir, sh = line.split(':')\n",
    "print (uname)\n",
    "print (homedir)\n",
    "print (sh)\n"
   ]
  },
  {
   "cell_type": "markdown",
   "metadata": {
    "collapsed": true
   },
   "source": [
    "<hr>\n",
    "### Keeping the Last N Items\n",
    "#### You want to keep a limited history of the last few items seen during iteration or during some other kind of processing.\n",
    "\n",
    "Keeping a limited history is a perfect use for a collections.deque. Using deque(maxlen=N) creates a fixed-sized queue. When new items are added and\n",
    "the queue is full, the oldest item is automatically removed."
   ]
  },
  {
   "cell_type": "code",
   "execution_count": 5,
   "metadata": {},
   "outputs": [
    {
     "name": "stdout",
     "output_type": "stream",
     "text": [
      "New Deque of maximum length created: \n",
      "deque([1, 2, 3], maxlen=3)\n",
      "Added item to right and the leftmost item is automatically popped: \n",
      "deque([2, 3, 4], maxlen=3)\n",
      "Added item to left and the rightmost item is automatically popped: \n",
      "deque([5, 2, 3], maxlen=3)\n"
     ]
    }
   ],
   "source": [
    "from collections import deque\n",
    "\n",
    "q = deque(maxlen=3)\n",
    "q.append(1)\n",
    "q.append(2)\n",
    "q.append(3)\n",
    "print ('New Deque of maximum length created: ')\n",
    "print (q)\n",
    "\n",
    "q.append(4)\n",
    "print ('Added item to right and the leftmost item is automatically popped: ')\n",
    "print (q)\n",
    "\n",
    "q.appendleft(5)\n",
    "print ('Added item to left and the rightmost item is automatically popped: ')\n",
    "print (q)"
   ]
  },
  {
   "cell_type": "markdown",
   "metadata": {},
   "source": [
    "Although you could manually perform such operations on a list (e.g., appending, deleting,\n",
    "etc.), the queue solution is far more elegant and runs a lot faster. Adding or popping items from either end of a queue has O(1) complexity. This is unlike\n",
    "a list where inserting or removing items from the front of the list is O(N)."
   ]
  },
  {
   "cell_type": "markdown",
   "metadata": {},
   "source": [
    "<hr>\n",
    "### Finding Largest or Smallest N items\n",
    "#### You want to make a list of the largest or smallest N items in a collection.\n",
    "\n",
    "The heapq module has two functions—nlargest() and nsmallest()—that do exactly\n",
    "what you want.\n"
   ]
  },
  {
   "cell_type": "code",
   "execution_count": 6,
   "metadata": {},
   "outputs": [
    {
     "name": "stdout",
     "output_type": "stream",
     "text": [
      "[66, 45, 33]\n",
      "[-87, -34, 0]\n"
     ]
    }
   ],
   "source": [
    "import heapq\n",
    "\n",
    "nums = [1, 6, 3, 5, 33, -34, 45, 66, -87, 0, 21]\n",
    "\n",
    "print (heapq.nlargest(3, nums))\n",
    "\n",
    "print (heapq.nsmallest(3, nums))\n"
   ]
  },
  {
   "cell_type": "markdown",
   "metadata": {},
   "source": [
    "Both functions also accept a key parameter that allows them to be used with more complicated data structures."
   ]
  },
  {
   "cell_type": "code",
   "execution_count": 12,
   "metadata": {},
   "outputs": [
    {
     "name": "stdout",
     "output_type": "stream",
     "text": [
      "[{'name': 'YHOO', 'shares': 45, 'price': 16.35}, {'name': 'FB', 'shares': 200, 'price': 21.09}, {'name': 'HPQ', 'shares': 35, 'price': 31.75}]\n",
      "[{'name': 'FB', 'shares': 200, 'price': 21.09}]\n"
     ]
    }
   ],
   "source": [
    "portfolio = [\n",
    "    {'name': 'IBM', 'shares': 100, 'price': 91.1},\n",
    "    {'name': 'AAPL', 'shares': 50, 'price': 543.22},\n",
    "    {'name': 'FB', 'shares': 200, 'price': 21.09},\n",
    "    {'name': 'HPQ', 'shares': 35, 'price': 31.75},\n",
    "    {'name': 'YHOO', 'shares': 45, 'price': 16.35},\n",
    "    {'name': 'ACME', 'shares': 75, 'price': 115.65}\n",
    "]\n",
    "\n",
    "cheap = heapq.nsmallest(3, portfolio, key=lambda s: s['price'])\n",
    "print (cheap)\n",
    "\n",
    "max_share = heapq.nlargest(1, portfolio, key=lambda s: s['shares'])\n",
    "print (max_share)"
   ]
  },
  {
   "cell_type": "markdown",
   "metadata": {},
   "source": [
    "If you are looking for the N smallest or largest items and N is small compared to the overall size of the collection, these functions provide superior performance. Underneath the covers, they work by first converting the data into a list where items are ordered as a heap."
   ]
  },
  {
   "cell_type": "code",
   "execution_count": 18,
   "metadata": {},
   "outputs": [
    {
     "name": "stdout",
     "output_type": "stream",
     "text": [
      "[-4, 2, 1, 23, 7, 2, 18, 23, 42, 37, 8]\n"
     ]
    }
   ],
   "source": [
    "import heapq\n",
    "\n",
    "nums = [1, 8, 2, 23, 7, -4, 18, 23, 42, 37, 2]\n",
    "heap = list(nums)\n",
    "\n",
    "heapq.heapify(heap)\n",
    "print (heap)"
   ]
  },
  {
   "cell_type": "markdown",
   "metadata": {},
   "source": [
    "The most important feature of a heap is that heap[0] is always the smallest item. Moreover,\n",
    "subsequent items can be easily found using the heapq.heappop() method, which\n",
    "pops off the first item and replaces it with the next smallest item (an operation that\n",
    "requires O(log N) operations where N is the size of the heap)."
   ]
  },
  {
   "cell_type": "code",
   "execution_count": 19,
   "metadata": {},
   "outputs": [
    {
     "name": "stdout",
     "output_type": "stream",
     "text": [
      "-4\n",
      "[1, 2, 2, 23, 7, 8, 18, 23, 42, 37]\n",
      "1\n",
      "[2, 2, 8, 23, 7, 37, 18, 23, 42]\n"
     ]
    }
   ],
   "source": [
    "print (heapq.heappop(heap))\n",
    "print (heap)\n",
    "\n",
    "print (heapq.heappop(heap))\n",
    "print (heap)"
   ]
  },
  {
   "cell_type": "markdown",
   "metadata": {},
   "source": [
    "The **nlargest()** and **nsmallest()** functions are most appropriate if you are trying to find a relatively small number of items. \n",
    "\n",
    "If you are simply trying to find the single smallest or largest item (N=1), it is faster to use min() and max(). \n",
    "\n",
    "Similarly, if N is about the same size as the collection itself, it is usually faster to sort it first and take a slice (i.e.,\n",
    "use sorted(items)[:N] or sorted(items)[-N:]).\n",
    "\n",
    "It should be noted that the actual\n",
    "implementation of nlargest() and nsmallest() is adaptive in how it operates and will\n",
    "carry out some of these optimizations on your behalf (e.g., using sorting if N is close to\n",
    "the same size as the input)."
   ]
  },
  {
   "cell_type": "markdown",
   "metadata": {},
   "source": [
    "<hr>\n",
    "### Implementing a Priority Queue\n",
    "#### Implement a queue that sorts items by a given priority and always returns the item with the highest priority on each pop operation.\n",
    "\n"
   ]
  },
  {
   "cell_type": "code",
   "execution_count": 9,
   "metadata": {},
   "outputs": [
    {
     "name": "stdout",
     "output_type": "stream",
     "text": [
      "Item(bar)\n",
      "Item(spam)\n",
      "Item(foo)\n",
      "Item(grok)\n"
     ]
    }
   ],
   "source": [
    "import heapq\n",
    "\n",
    "class PriorityQueue:\n",
    "    def __init__(self):\n",
    "        self._queue = []\n",
    "        self._index = 0\n",
    "        \n",
    "    def push(self, item, priority):\n",
    "        heapq.heappush(self._queue, (-priority, self._index, item))\n",
    "        self._index += 1\n",
    "        \n",
    "    def pop(self):\n",
    "        return heapq.heappop(self._queue)[-1]\n",
    "    \n",
    "\n",
    "class Item:\n",
    "    def __init__(self, name):\n",
    "        self.name = name\n",
    "        \n",
    "    def __repr__(self):\n",
    "        return 'Item(%s)' % self.name\n",
    "    \n",
    "q = PriorityQueue()\n",
    "q.push(Item('foo'), 1)\n",
    "q.push(Item('bar'), 5)\n",
    "q.push(Item('spam'), 4)\n",
    "q.push(Item('grok'), 1)\n",
    "\n",
    "print (q.pop())\n",
    "print (q.pop())\n",
    "print (q.pop())\n",
    "print (q.pop())"
   ]
  },
  {
   "cell_type": "markdown",
   "metadata": {},
   "source": [
    "The queue consists of tuples of the form (-priority, index, item). The\n",
    "priority value is negated to get the queue to sort items from highest priority to lowest\n",
    "priority. This is opposite of the normal heap ordering, which sorts from lowest to highest\n",
    "value.\n",
    "The role of the index variable is to properly order items with the same priority level.\n",
    "By keeping a constantly increasing index, the items will be sorted according to the order\n",
    "in which they were inserted. However, the index also serves an important role in making\n",
    "the comparison operations work for items that have the same priority level.\n"
   ]
  },
  {
   "cell_type": "markdown",
   "metadata": {},
   "source": [
    "<hr>\n",
    "### Mapping Keys to Multiple Values in a Dictionary\n",
    "\n",
    "#### You want to make a dictionary that maps keys to more than one value (a so-called “multidict”).\n",
    "\n",
    "Dictionary is a mapping where each key is mapped to a single value. If you want to\n",
    "map keys to multiple values, you need to store the multiple values in another container\n",
    "such as a list or set.\n",
    "\n",
    "To easily construct such dictionaries, you can use defaultdict in the collections\n",
    "module. A feature of defaultdict is that it automatically initializes the first value so\n",
    "you can simply focus on adding items."
   ]
  },
  {
   "cell_type": "code",
   "execution_count": 11,
   "metadata": {},
   "outputs": [
    {
     "name": "stdout",
     "output_type": "stream",
     "text": [
      "defaultdict(<class 'list'>, {'a': [1, 5], 'b': [3]})\n",
      "defaultdict(<class 'list'>, {'TX': ['Austin', 'Houston', 'Dallas'], 'NY': ['Albany', 'Syracuse', 'Buffalo', 'Rochester'], 'CA': ['Sacramento', 'Palo Alto'], 'GA': ['Atlanta']})\n"
     ]
    }
   ],
   "source": [
    "from collections import defaultdict\n",
    "\n",
    "d = defaultdict(list)\n",
    "d['a'].append(1)\n",
    "d['b'].append(3)\n",
    "d['a'].append(5)\n",
    "\n",
    "print (d)\n",
    "\n",
    "\n",
    "city_list = [('TX','Austin'), ('TX','Houston'),\n",
    "             ('NY','Albany'), ('NY', 'Syracuse'),\n",
    "             ('NY', 'Buffalo'), ('NY', 'Rochester'),\n",
    "             ('TX', 'Dallas'), ('CA','Sacramento'),\n",
    "             ('CA', 'Palo Alto'), ('GA', 'Atlanta')]\n",
    "\n",
    "\n",
    "cities_by_state = defaultdict(list)\n",
    "for state, city in city_list:\n",
    "    cities_by_state[state].append(city)\n",
    "\n",
    "print (cities_by_state)\n"
   ]
  },
  {
   "cell_type": "markdown",
   "metadata": {},
   "source": [
    "This recipe is strongly related to the problem of grouping records together in data processing\n",
    "problems."
   ]
  },
  {
   "cell_type": "markdown",
   "metadata": {},
   "source": [
    "<hr>\n",
    "### Keeping Dictionaries in Order\n",
    "\n",
    "#### You want to create a dictionary, and you also want to control the order of items when iterating or serializing.\n",
    "\n",
    "To control the order of items in a dictionary, you can use an OrderedDict from the\n",
    "collections module. It exactly preserves the original insertion order of data when\n",
    "iterating.\n"
   ]
  },
  {
   "cell_type": "code",
   "execution_count": 12,
   "metadata": {},
   "outputs": [
    {
     "name": "stdout",
     "output_type": "stream",
     "text": [
      "a 1\n",
      "b 2\n",
      "c 3\n",
      "d 4\n"
     ]
    }
   ],
   "source": [
    "from collections import OrderedDict\n",
    "\n",
    "d = OrderedDict()\n",
    "d['a'] = 1\n",
    "d['b'] = 2\n",
    "d['c'] = 3\n",
    "d['d'] = 4\n",
    "\n",
    "for key in d:\n",
    "    print (key, d[key])\n"
   ]
  },
  {
   "cell_type": "markdown",
   "metadata": {},
   "source": [
    "An OrderedDict can be particularly useful when you want to build a mapping that you\n",
    "may want to later serialize or encode into a different format. For example, if you want\n",
    "to precisely control the order of fields appearing in a JSON encoding, first building the\n",
    "data in an OrderedDict will do the trick"
   ]
  },
  {
   "cell_type": "code",
   "execution_count": 15,
   "metadata": {},
   "outputs": [
    {
     "name": "stdout",
     "output_type": "stream",
     "text": [
      "{\"a\": 1, \"b\": 2, \"c\": 3, \"d\": 4}\n"
     ]
    }
   ],
   "source": [
    "import json\n",
    "\n",
    "print (json.dumps(d))"
   ]
  },
  {
   "cell_type": "markdown",
   "metadata": {},
   "source": [
    "<hr>\n",
    "### Calculating with dictionaries\n",
    "\n",
    "#### You want to perform various calculations (e.g., minimum value, maximum value, sorting, etc.) on a dictionary of data.\n",
    "\n",
    "In order to perform useful calculations on the dictionary contents, it is often useful to\n",
    "invert the keys and values of the dictionary using zip(). For example, here is how to\n",
    "find the minimum and maximum price and stock name:"
   ]
  },
  {
   "cell_type": "code",
   "execution_count": 43,
   "metadata": {},
   "outputs": [
    {
     "name": "stdout",
     "output_type": "stream",
     "text": [
      "Minimum price:  (10.75, 'FB')\n",
      "Maximum price:  (612.78, 'AAPL')\n",
      "Prices sorted in desc order [(10.75, 'FB'), (37.2, 'HPQ'), (45.23, 'ACME'), (205.55, 'IBM'), (612.78, 'AAPL')]\n",
      "\n",
      "Another method to get key and value\n",
      "key:  FB\n",
      "value:  10.75\n"
     ]
    }
   ],
   "source": [
    "prices = {\n",
    "    'ACME': 45.23,\n",
    "    'AAPL': 612.78,\n",
    "    'IBM': 205.55,\n",
    "    'HPQ': 37.20,\n",
    "    'FB': 10.75\n",
    "}\n",
    "\n",
    "min_price = min(zip(prices.values(), prices.keys()))\n",
    "print ('Minimum price: ', min_price)\n",
    "\n",
    "max_price = max(zip(prices.values(), prices.keys()))\n",
    "print ('Maximum price: ', max_price)\n",
    "\n",
    "prices_sorted = sorted(zip(pricebs.values(), prices.keys()))\n",
    "print ('Prices sorted in desc order', prices_sorted)\n",
    "\n",
    "print ('\\nAnother method to get key and value')\n",
    "print ('key: ', min(prices, key=lambda k:prices[k]))\n",
    "print ('value: ', prices[min(prices, key=lambda k:prices[k])])"
   ]
  },
  {
   "cell_type": "markdown",
   "metadata": {},
   "source": [
    "The solution involving zip() solves the problem by “inverting” the dictionary into a\n",
    "sequence of (value, key) pairs. When performing comparisons on such tuples, the\n",
    "value element is compared first, followed by the key. This gives you exactly the behavior\n",
    "that you want and allows reductions and sorting to be easily performed on the dictionary\n",
    "contents using a single statement.\n",
    "\n",
    "It should be noted that in calculations involving (value, key) pairs, the key will be\n",
    "used to determine the result in instances where multiple entries happen to have the same\n",
    "value. For instance, in calculations such as min() and max(), the entry with the smallest\n",
    "or largest key will be returned if there happen to be duplicate values. For example"
   ]
  },
  {
   "cell_type": "code",
   "execution_count": 26,
   "metadata": {},
   "outputs": [
    {
     "name": "stdout",
     "output_type": "stream",
     "text": [
      "(45.23, 'AAA')\n",
      "(45.23, 'ZZZ')\n"
     ]
    }
   ],
   "source": [
    "prices = { 'AAA' : 45.23, 'ZZZ': 45.23 }\n",
    "print (min(zip(prices.values(), prices.keys())))\n",
    "print (max(zip(prices.values(), prices.keys())))"
   ]
  },
  {
   "cell_type": "markdown",
   "metadata": {},
   "source": [
    "### Finding common between two dictionaries\n",
    "\n",
    "#### You have two dictionaries and want to find out what they might have in common (same keys, same values, etc.).\n"
   ]
  },
  {
   "cell_type": "code",
   "execution_count": null,
   "metadata": {
    "collapsed": true
   },
   "outputs": [],
   "source": [
    "a = {\n",
    "    'x': 1,\n",
    "    'y': 2,\n",
    "    'z': 3\n",
    "}\n",
    "\n",
    "b = {\n",
    "    'w': 10,\n",
    "    'x': 11,\n",
    "    'y': 2\n",
    "}\n",
    "\n",
    "print ('Find keys in common: ')\n",
    "print (a.keys() & b.keys())\n",
    "\n",
    "print ('\\nFind keys in a that are not in b: ')\n",
    "print (a.keys() - b.keys())\n",
    "\n",
    "print ('\\nFind (key, value) pairs in common')\n",
    "print (a.items() & b.items())\n",
    "\n",
    "print ('\\nMake a new dictionary with certain keys removed')\n",
    "c = {key:a[key] for key in a.keys() - {'z', 'w'}}\n",
    "print (c)"
   ]
  },
  {
   "cell_type": "markdown",
   "metadata": {},
   "source": [
    "A dictionary is a mapping between a set of keys and values. The keys() method of a\n",
    "dictionary returns a keys-view object that exposes the keys. A little-known feature of\n",
    "keys views is that they also support common set operations such as unions, intersections,\n",
    "and differences. Thus, if you need to perform common set operations with dictionary\n",
    "keys, you can often just use the keys-view objects directly without first converting them\n",
    "into a set.\n",
    "\n",
    "The items() method of a dictionary returns an items-view object consisting of (key,\n",
    "value) pairs. This object supports similar set operations and can be used to perform\n",
    "operations such as finding out which key-value pairs two dictionaries have in common.\n",
    "\n",
    "Although similar, the values() method of a dictionary does not support the set operations\n",
    "described in this recipe. In part, this is due to the fact that unlike keys, the items\n",
    "contained in a values view aren’t guaranteed to be unique. This alone makes certain set\n",
    "operations of questionable utility. However, if you must perform such calculations, they\n",
    "can be accomplished by simply converting the values to a set first."
   ]
  },
  {
   "cell_type": "markdown",
   "metadata": {},
   "source": [
    "### Removing duplicates while maintaining order from a sequence\n",
    "\n",
    "If the values in the sequence are hashable, the problem can be easily solved using a set\n",
    "and a generator."
   ]
  },
  {
   "cell_type": "code",
   "execution_count": 38,
   "metadata": {},
   "outputs": [
    {
     "name": "stdout",
     "output_type": "stream",
     "text": [
      "[1, 5, 6, 2, 9, 10]\n"
     ]
    }
   ],
   "source": [
    "def dedupe(items):\n",
    "    seen = set()\n",
    "    for item in items:\n",
    "        if item not in seen:\n",
    "            yield item\n",
    "            seen.add(item)\n",
    "            \n",
    "a = [1, 5, 6, 2, 1, 9, 2, 5, 10]\n",
    "\n",
    "print (list(dedupe(a)))\n"
   ]
  },
  {
   "cell_type": "markdown",
   "metadata": {},
   "source": [
    "If you are trying to eliminate\n",
    "duplicates in a sequence of unhashable types (such as dicts), you can make a slight\n",
    "change to this recipe, as follows:"
   ]
  },
  {
   "cell_type": "code",
   "execution_count": 63,
   "metadata": {},
   "outputs": [
    {
     "name": "stdout",
     "output_type": "stream",
     "text": [
      "[{'x': 1, 'y': 2}, {'x': 1, 'y': 3}, {'x': 2, 'y': 4}]\n",
      "[{'x': 1, 'y': 2}, {'x': 2, 'y': 4}]\n"
     ]
    }
   ],
   "source": [
    "def dedupe(items, key=None):\n",
    "    seen = set()\n",
    "    for item in items:\n",
    "        val = item if key is None else key(item)\n",
    "        if val not in seen:\n",
    "            yield item\n",
    "            seen.add(val)          \n",
    "            \n",
    "\n",
    "a = [ {'x':1, 'y':2}, {'x':1, 'y':3}, {'x':1, 'y':2}, {'x':2, 'y':4}]\n",
    "print (list(dedupe(a, key=lambda d: (d['x'], d['y']))))\n",
    "\n",
    "print (list(dedupe(a, key=lambda d: (d['x']))))"
   ]
  },
  {
   "cell_type": "markdown",
   "metadata": {},
   "source": [
    "<hr>\n",
    "### Determining the Most Frequently Occurring Items in a Sequence\n",
    "\n",
    "#### You have a sequence of items, and you’d like to determine the most frequently occurring items in the sequence.\n",
    "\n",
    "The collections.Counter class is designed for just such a problem. It even comes with\n",
    "a handy most_common() method that will give you the answer."
   ]
  },
  {
   "cell_type": "code",
   "execution_count": 64,
   "metadata": {},
   "outputs": [
    {
     "name": "stdout",
     "output_type": "stream",
     "text": [
      "[('eyes', 8), ('the', 5), ('look', 4)]\n"
     ]
    }
   ],
   "source": [
    "from collections import Counter\n",
    "\n",
    "words = [\n",
    "    'look', 'into', 'my', 'eyes', 'look', 'into', 'my', 'eyes',\n",
    "    'the', 'eyes', 'the', 'eyes', 'the', 'eyes', 'not', 'around', 'the',\n",
    "    'eyes', \"don't\", 'look', 'around', 'the', 'eyes', 'look', 'into',\n",
    "    'my', 'eyes', \"you're\", 'under'\n",
    "]\n",
    "\n",
    "word_counts = Counter(words)\n",
    "top_three = word_counts.most_common(3)\n",
    "print (top_three)"
   ]
  },
  {
   "cell_type": "markdown",
   "metadata": {},
   "source": [
    "If you want to increment the count manually, you could use the update() method."
   ]
  },
  {
   "cell_type": "code",
   "execution_count": 66,
   "metadata": {},
   "outputs": [
    {
     "name": "stdout",
     "output_type": "stream",
     "text": [
      "Counter({'eyes': 9, 'the': 5, 'look': 4, 'my': 4, 'into': 3, 'not': 2, 'around': 2, \"don't\": 1, \"you're\": 1, 'under': 1, 'why': 1, 'are': 1, 'you': 1, 'looking': 1, 'in': 1})\n"
     ]
    }
   ],
   "source": [
    "morewords = ['why','are','you','not','looking','in','my','eyes']\n",
    "\n",
    "word_counts.update(morewords)\n",
    "\n",
    "print (word_counts)"
   ]
  },
  {
   "cell_type": "markdown",
   "metadata": {
    "collapsed": true
   },
   "source": [
    "<hr>\n",
    "### Sorting a list of dictionaries by common key\n",
    "\n",
    "#### You have a list of dictionaries and you would like to sort the entries according to one or more of the dictionary values.\n",
    "\n",
    "Sorting this type of structure is easy using the operator module’s itemgetter function."
   ]
  },
  {
   "cell_type": "code",
   "execution_count": 7,
   "metadata": {},
   "outputs": [
    {
     "name": "stdout",
     "output_type": "stream",
     "text": [
      "Rows sorted by firstname: \n",
      "[{'fname': 'Big', 'lname': 'Jones', 'uid': 1004}, {'fname': 'Brian', 'lname': 'Jones', 'uid': 1003}, {'fname': 'David', 'lname': 'Beazley', 'uid': 1002}, {'fname': 'John', 'lname': 'Cleese', 'uid': 1001}]\n",
      "\n",
      "Rows sorted by uid: \n",
      "[{'fname': 'John', 'lname': 'Cleese', 'uid': 1001}, {'fname': 'David', 'lname': 'Beazley', 'uid': 1002}, {'fname': 'Brian', 'lname': 'Jones', 'uid': 1003}, {'fname': 'Big', 'lname': 'Jones', 'uid': 1004}]\n",
      "\n",
      "Rows sorted by last and first name: \n",
      "[{'fname': 'David', 'lname': 'Beazley', 'uid': 1002}, {'fname': 'John', 'lname': 'Cleese', 'uid': 1001}, {'fname': 'Big', 'lname': 'Jones', 'uid': 1004}, {'fname': 'Brian', 'lname': 'Jones', 'uid': 1003}]\n",
      "\n",
      "lowest uid row:  {'fname': 'John', 'lname': 'Cleese', 'uid': 1001}\n",
      "\n",
      "highest uid row {'fname': 'Big', 'lname': 'Jones', 'uid': 1004}\n"
     ]
    }
   ],
   "source": [
    "from operator import itemgetter\n",
    "\n",
    "rows = [\n",
    "    {'fname': 'Brian', 'lname': 'Jones', 'uid': 1003},\n",
    "    {'fname': 'David', 'lname': 'Beazley', 'uid': 1002},\n",
    "    {'fname': 'John', 'lname': 'Cleese', 'uid': 1001},\n",
    "    {'fname': 'Big', 'lname': 'Jones', 'uid': 1004}\n",
    "]\n",
    "\n",
    "rows_by_fname = sorted(rows, key=itemgetter('fname'))\n",
    "rows_by_uid = sorted(rows, key=itemgetter('uid'))\n",
    "\n",
    "print ('Rows sorted by firstname: ')\n",
    "print (rows_by_fname)\n",
    "print ('\\nRows sorted by uid: ')\n",
    "print (rows_by_uid)\n",
    "\n",
    "rows_by_lfname = sorted(rows, key=lambda r: (r['lname'],r['fname']))\n",
    "print ('\\nRows sorted by last and first name: ')\n",
    "print (rows_by_lfname)\n",
    "\n",
    "print ('\\nlowest uid row: ', min(rows, key=itemgetter('uid')))\n",
    "print ('\\nhighest uid row', max(rows, key=itemgetter('uid')))"
   ]
  },
  {
   "cell_type": "markdown",
   "metadata": {},
   "source": [
    "<hr>\n",
    "### Sorting objects without native comparison support\n",
    "\n",
    "#### You want to sort objects of the same class, but they don’t natively support comparison operations.\n",
    "\n",
    "The built-in sorted() function takes a key argument that can be passed a callable that\n",
    "will return some value in the object that sorted will use to compare the objects.\n",
    "\n",
    "For\n",
    "example, if you have a sequence of User instances in your application, and you want to\n",
    "sort them by their user_id attribute, you would supply a callable that takes a User\n",
    "instance as input and returns the user_id."
   ]
  },
  {
   "cell_type": "code",
   "execution_count": 12,
   "metadata": {},
   "outputs": [
    {
     "name": "stdout",
     "output_type": "stream",
     "text": [
      "[User(3), User(23), User(99)]\n"
     ]
    }
   ],
   "source": [
    "class User:\n",
    "    def __init__(self, user_id):\n",
    "        self.user_id = user_id\n",
    "        \n",
    "    def __repr__(self):\n",
    "        return 'User({})'.format(self.user_id)\n",
    "    \n",
    "users = [User(23), User(3), User(99)]\n",
    "\n",
    "print(sorted(users, key=lambda u: u.user_id))"
   ]
  },
  {
   "cell_type": "markdown",
   "metadata": {},
   "source": [
    "Instead of using lambda, an alternative approach is to use operator.attrgetter()"
   ]
  },
  {
   "cell_type": "code",
   "execution_count": 11,
   "metadata": {},
   "outputs": [
    {
     "name": "stdout",
     "output_type": "stream",
     "text": [
      "[User(3), User(23), User(99)]\n"
     ]
    }
   ],
   "source": [
    "from operator import attrgetter\n",
    "\n",
    "print (sorted(users, key=attrgetter('user_id')))"
   ]
  },
  {
   "cell_type": "markdown",
   "metadata": {},
   "source": [
    "<hr>\n",
    "### Grouping Records together based on a field\n",
    "\n",
    "#### You have a sequence of dictionaries or instances and you want to iterate over the data in groups based on the value of a particular field, such as date.\n",
    "\n",
    "The itertools.groupby() function is particularly useful for grouping together like this."
   ]
  },
  {
   "cell_type": "code",
   "execution_count": 18,
   "metadata": {},
   "outputs": [
    {
     "name": "stdout",
     "output_type": "stream",
     "text": [
      "07/01/2012\n",
      "        {'address': '5412 N CLARK', 'date': '07/01/2012'}\n",
      "        {'address': '4801 N BROADWAY', 'date': '07/01/2012'}\n",
      "07/02/2012\n",
      "        {'address': '5800 E 58TH', 'date': '07/02/2012'}\n",
      "        {'address': '5645 N RAVENSWOOD', 'date': '07/02/2012'}\n",
      "        {'address': '1060 W ADDISON', 'date': '07/02/2012'}\n",
      "07/03/2012\n",
      "        {'address': '2122 N CLARK', 'date': '07/03/2012'}\n",
      "07/04/2012\n",
      "        {'address': '5148 N CLARK', 'date': '07/04/2012'}\n",
      "        {'address': '1039 W GRANVILLE', 'date': '07/04/2012'}\n"
     ]
    }
   ],
   "source": [
    "from operator import itemgetter\n",
    "from itertools import groupby\n",
    "\n",
    "rows = [\n",
    "    {'address': '5412 N CLARK', 'date': '07/01/2012'},\n",
    "    {'address': '5148 N CLARK', 'date': '07/04/2012'},\n",
    "    {'address': '5800 E 58TH', 'date': '07/02/2012'},\n",
    "    {'address': '2122 N CLARK', 'date': '07/03/2012'},\n",
    "    {'address': '5645 N RAVENSWOOD', 'date': '07/02/2012'},\n",
    "    {'address': '1060 W ADDISON', 'date': '07/02/2012'},\n",
    "    {'address': '4801 N BROADWAY', 'date': '07/01/2012'},\n",
    "    {'address': '1039 W GRANVILLE', 'date': '07/04/2012'},\n",
    "]\n",
    "\n",
    "rows.sort(key=itemgetter('date'))\n",
    "\n",
    "for date, items in groupby(rows, key=itemgetter('date')):\n",
    "    print (date)\n",
    "    for i in items:\n",
    "        print ('       ', i)"
   ]
  },
  {
   "cell_type": "markdown",
   "metadata": {},
   "source": [
    "The groupby() function works by scanning a sequence and finding sequential “runs”\n",
    "of identical values (or values returned by the given key function). On each iteration, it\n",
    "returns the value along with an iterator that produces all of the items in a group with\n",
    "the same value.\n",
    "An important preliminary step is sorting the data according to the field of interest. Since\n",
    "groupby() only examines consecutive items, failing to sort first won’t group the records\n",
    "as you want."
   ]
  },
  {
   "cell_type": "markdown",
   "metadata": {},
   "source": [
    "If your goal is to simply group the data together by dates into a large data structure that\n",
    "allows random access, you may have better luck using defaultdict() to build a\n",
    "multidict."
   ]
  },
  {
   "cell_type": "code",
   "execution_count": 30,
   "metadata": {},
   "outputs": [
    {
     "name": "stdout",
     "output_type": "stream",
     "text": [
      "The defaultdict with the updated data: \n",
      "defaultdict(<class 'list'>, {'07/01/2012': [{'address': '5412 N CLARK', 'date': '07/01/2012'}, {'address': '4801 N BROADWAY', 'date': '07/01/2012'}], '07/04/2012': [{'address': '5148 N CLARK', 'date': '07/04/2012'}, {'address': '1039 W GRANVILLE', 'date': '07/04/2012'}], '07/02/2012': [{'address': '5800 E 58TH', 'date': '07/02/2012'}, {'address': '5645 N RAVENSWOOD', 'date': '07/02/2012'}, {'address': '1060 W ADDISON', 'date': '07/02/2012'}], '07/03/2012': [{'address': '2122 N CLARK', 'date': '07/03/2012'}]})\n",
      "\n",
      " [{'address': '5412 N CLARK', 'date': '07/01/2012'}, {'address': '4801 N BROADWAY', 'date': '07/01/2012'}]\n",
      "\n",
      " [{'address': '5148 N CLARK', 'date': '07/04/2012'}, {'address': '1039 W GRANVILLE', 'date': '07/04/2012'}]\n",
      "\n",
      " [{'address': '5800 E 58TH', 'date': '07/02/2012'}, {'address': '5645 N RAVENSWOOD', 'date': '07/02/2012'}, {'address': '1060 W ADDISON', 'date': '07/02/2012'}]\n",
      "\n",
      " [{'address': '2122 N CLARK', 'date': '07/03/2012'}]\n"
     ]
    }
   ],
   "source": [
    "from collections import defaultdict\n",
    "\n",
    "rows = [\n",
    "    {'address': '5412 N CLARK', 'date': '07/01/2012'},\n",
    "    {'address': '5148 N CLARK', 'date': '07/04/2012'},\n",
    "    {'address': '5800 E 58TH', 'date': '07/02/2012'},\n",
    "    {'address': '2122 N CLARK', 'date': '07/03/2012'},\n",
    "    {'address': '5645 N RAVENSWOOD', 'date': '07/02/2012'},\n",
    "    {'address': '1060 W ADDISON', 'date': '07/02/2012'},\n",
    "    {'address': '4801 N BROADWAY', 'date': '07/01/2012'},\n",
    "    {'address': '1039 W GRANVILLE', 'date': '07/04/2012'},\n",
    "]\n",
    "\n",
    "rows_by_date = defaultdict(list)\n",
    "\n",
    "for row in rows:\n",
    "    rows_by_date[row['date']].append(row)\n",
    "\n",
    "print ('The defaultdict with the updated data: ')\n",
    "print (rows_by_date)\n",
    "\n",
    "for r in rows_by_date:    ### the way to retrieve data\n",
    "    print ('\\n', rows_by_date[r])"
   ]
  },
  {
   "cell_type": "markdown",
   "metadata": {},
   "source": [
    "<hr>\n",
    "### Filtering sequence elements\n",
    "\n",
    "#### You have data inside of a sequence, and need to extract values or reduce the sequence using some criteria.\n",
    "\n",
    "The easiest way to filter sequence data is often to use a list comprehension, One potential downside of using a list comprehension is that it might produce a large\n",
    "result if the original input is large. If this is a concern, you can use generator expressions\n",
    "to produce the filtered values iteratively."
   ]
  },
  {
   "cell_type": "code",
   "execution_count": 38,
   "metadata": {},
   "outputs": [
    {
     "name": "stdout",
     "output_type": "stream",
     "text": [
      "new list created:  [1, 4, 10, 2, 5]\n",
      "generator expression:  <generator object <genexpr> at 0x0000000005560CA8>\n",
      "Access data from generator object: \n",
      "1\n",
      "4\n",
      "10\n",
      "2\n",
      "5\n"
     ]
    }
   ],
   "source": [
    "mylist = [1, 4, -5, 10, -7, 2, 5, -4]\n",
    "\n",
    "list_com = [i for i in mylist if i > 0]\n",
    "print ('new list created: ', list_com)\n",
    "\n",
    "generator_exp = (i for i in mylist if i > 0)\n",
    "print ('generator expression: ', generator_exp)\n",
    "\n",
    "print ('Access data from generator object: ')\n",
    "for x in generator_exp:\n",
    "    print (x)"
   ]
  },
  {
   "cell_type": "markdown",
   "metadata": {
    "collapsed": true
   },
   "source": [
    "Sometimes, the filtering criteria cannot be easily expressed in a list comprehension or\n",
    "generator expression. For example, suppose that the filtering process involves exception\n",
    "handling or some other complicated detail. For this, put the filtering code into its own\n",
    "function and use the built-in filter() function."
   ]
  },
  {
   "cell_type": "code",
   "execution_count": 1,
   "metadata": {},
   "outputs": [
    {
     "name": "stdout",
     "output_type": "stream",
     "text": [
      "['1', '2', '-3', '4', '5']\n"
     ]
    }
   ],
   "source": [
    "values = ['1', '2', '-3', '-', '4', 'N/A', '5']\n",
    "\n",
    "def is_int(val):\n",
    "    try:\n",
    "        x = int(val)\n",
    "        return True\n",
    "    except ValueError:\n",
    "        return False\n",
    "    \n",
    "ivals = list(filter(is_int, values))  ## filter creates an iterator\n",
    "print (ivals)"
   ]
  },
  {
   "cell_type": "markdown",
   "metadata": {},
   "source": [
    "One variation on filtering involves replacing the values that don’t meet the criteria with\n",
    "a new value instead of discarding them. For example, perhaps instead of just finding\n",
    "positive values, you want to also clip bad values to fit within a specified range. This is\n",
    "often easily accomplished by moving the filter criterion into a conditional expression"
   ]
  },
  {
   "cell_type": "code",
   "execution_count": 4,
   "metadata": {},
   "outputs": [
    {
     "name": "stdout",
     "output_type": "stream",
     "text": [
      "[1, 4, 0, 10, 0, 2, 5, 0]\n",
      "[0, 0, -5, 0, -7, 0, 0, -4]\n"
     ]
    }
   ],
   "source": [
    "mylist = [1, 4, -5, 10, -7, 2, 5, -4]\n",
    "\n",
    "replace_neg_with_zero = [n if n > 0 else 0 for n in mylist]\n",
    "print (replace_neg_with_zero)\n",
    "\n",
    "replace_pos_with_zero = [n if n < 0 else 0 for n in mylist]\n",
    "print (replace_pos_with_zero)"
   ]
  },
  {
   "cell_type": "markdown",
   "metadata": {},
   "source": [
    "Another notable filtering tool is `itertools.compress()`, which takes an iterable and\n",
    "an accompanying Boolean selector sequence as input. As output, it gives you all of the\n",
    "items in the iterable where the corresponding element in the selector is True. This can\n",
    "be useful if you’re trying to apply the results of filtering one sequence to another related\n",
    "sequence.\n",
    "\n",
    "Suppose you want to make a list of all addresses where the corresponding count value was greater than 5"
   ]
  },
  {
   "cell_type": "code",
   "execution_count": 7,
   "metadata": {},
   "outputs": [
    {
     "name": "stdout",
     "output_type": "stream",
     "text": [
      "[False, False, True, False, False, True, True, False]\n",
      "\n",
      "new_address_list:  ['5800 E 58TH', '4801 N BROADWAY', '1039 W GRANVILLE']\n"
     ]
    }
   ],
   "source": [
    "from itertools import compress\n",
    "\n",
    "addresses = [\n",
    "    '5412 N CLARK',\n",
    "    '5148 N CLARK',\n",
    "    '5800 E 58TH',\n",
    "    '2122 N CLARK'\n",
    "    '5645 N RAVENSWOOD',\n",
    "    '1060 W ADDISON',\n",
    "    '4801 N BROADWAY',\n",
    "    '1039 W GRANVILLE',\n",
    "]\n",
    "\n",
    "counts = [ 0, 3, 10, 4, 1, 7, 6, 1]\n",
    "\n",
    "more5 = [n > 5 for n in counts]\n",
    "print (more5)\n",
    "\n",
    "new_address_list = list(compress(addresses, more5))\n",
    "print ('\\nnew_address_list : ', new_address_list)"
   ]
  },
  {
   "cell_type": "markdown",
   "metadata": {},
   "source": [
    "The key here is to first create a sequence of Booleans that indicates which elements\n",
    "satisfy the desired condition. The compress() function then picks out the items corresponding\n",
    "to True values.\n",
    "\n",
    "Like filter(), compress() normally returns an iterator. Thus, you need to use list()\n",
    "to turn the results into a list if desired."
   ]
  },
  {
   "cell_type": "markdown",
   "metadata": {},
   "source": [
    "<hr>\n",
    "### Extracting Subset of a dictionary\n",
    "\n",
    "#### You want to make a dictionary that is a subset of another dictionary.\n",
    "\n",
    "This is easily accomplished using a dictionary comprehension."
   ]
  },
  {
   "cell_type": "code",
   "execution_count": 11,
   "metadata": {},
   "outputs": [
    {
     "name": "stdout",
     "output_type": "stream",
     "text": [
      "dictionary of all prices over 200:  {'AAPL': 612.78, 'IBM': 205.55}\n",
      "Dictionary with keys from a set:  {'AAPL': 612.78, 'IBM': 205.55, 'HPQ': 37.2}\n"
     ]
    }
   ],
   "source": [
    "prices = {\n",
    "    'ACME': 45.23,\n",
    "    'AAPL': 612.78,\n",
    "    'IBM': 205.55,\n",
    "    'HPQ': 37.20,\n",
    "    'FB': 10.75\n",
    "}\n",
    "\n",
    "p1 = { key:value for key, value in prices.items() if value > 200}\n",
    "print ('dictionary of all prices over 200: ', p1)\n",
    "\n",
    "tech_names = { 'AAPL', 'IBM', 'HPQ', 'MSFT' }\n",
    "p2 = {key: value for key, value in prices.items() if key in tech_names}\n",
    "print ('Dictionary with keys from a set: ', p2)"
   ]
  },
  {
   "cell_type": "markdown",
   "metadata": {},
   "source": [
    "<hr>\n",
    "### Mapping names to sequence elements\n",
    "\n",
    "#### You have code that accesses list or tuple elements by position, but this makes the code somewhat difficult to read at times. You’d also like to be less dependent on position in the structure, by accessing the elements by name.\n",
    "\n",
    "`collections.namedtuple()` provides these benefits, while adding minimal overhead\n",
    "over using a normal tuple object. `collections.namedtuple()` is actually a factory\n",
    "method that returns a subclass of the standard Python tuple type. You feed it a type\n",
    "name, and the fields it should have, and it returns a class that you can instantiate, passing\n",
    "in values for the fields you’ve defined, and so on."
   ]
  },
  {
   "cell_type": "code",
   "execution_count": 15,
   "metadata": {},
   "outputs": [
    {
     "name": "stdout",
     "output_type": "stream",
     "text": [
      "Subscriber(email='jon@example.com', joined='2017-10-10')\n",
      "Subscriber's email:  jon@example.com\n",
      "Subscriber's joining date:  2017-10-10\n"
     ]
    }
   ],
   "source": [
    "from collections import namedtuple\n",
    "\n",
    "Subscriber = namedtuple('Subscriber', ['email', 'joined'])\n",
    "\n",
    "sub = Subscriber('jon@example.com', '2017-10-10')\n",
    "print (sub)\n",
    "print ('Subscriber\\'s email: ', sub.email)\n",
    "print ('Subscriber\\'s joining date: ', sub.joined)"
   ]
  },
  {
   "cell_type": "markdown",
   "metadata": {},
   "source": [
    "A major use case for named tuples is decoupling your code from the position of the\n",
    "elements it manipulates. So, if you get back a large list of tuples from a database call,\n",
    "then manipulate them by accessing the positional elements, your code could break if,\n",
    "say, you added a new column to your table. Not so if you first cast the returned tuples\n",
    "to namedtuples."
   ]
  },
  {
   "cell_type": "code",
   "execution_count": 50,
   "metadata": {
    "collapsed": true
   },
   "outputs": [],
   "source": [
    "# def compute_cost(records):\n",
    "#     total = 0.0\n",
    "#     for r in records:\n",
    "#         total += r[1] * r[2]\n",
    "#     return total\n",
    "\n",
    "\n",
    "# ### With namedtuple\n",
    "# from collections import namedtuple\n",
    "\n",
    "# Stock = ('Stock', 'name shares price')\n",
    "# def compute_cost(records):\n",
    "#     total = 0.0\n",
    "#     for r in records:\n",
    "#         s = Stock(*r)\n",
    "#         total += s.shares * s.price\n",
    "#     return total    "
   ]
  },
  {
   "cell_type": "markdown",
   "metadata": {},
   "source": [
    "One possible use of a namedtuple is as a replacement for a dictionary, which requires\n",
    "more space to store. Thus, if you are building large data structures involving dictionaries,\n",
    "use of a namedtuple will be more efficient. However, be aware that unlike a dictionary,\n",
    "a namedtuple is immutable."
   ]
  },
  {
   "cell_type": "code",
   "execution_count": 53,
   "metadata": {},
   "outputs": [
    {
     "ename": "AttributeError",
     "evalue": "can't set attribute",
     "output_type": "error",
     "traceback": [
      "\u001b[1;31m---------------------------------------------------------------------------\u001b[0m",
      "\u001b[1;31mAttributeError\u001b[0m                            Traceback (most recent call last)",
      "\u001b[1;32m<ipython-input-53-a222cb553276>\u001b[0m in \u001b[0;36m<module>\u001b[1;34m()\u001b[0m\n\u001b[0;32m      4\u001b[0m \u001b[1;33m\u001b[0m\u001b[0m\n\u001b[0;32m      5\u001b[0m \u001b[0ms\u001b[0m \u001b[1;33m=\u001b[0m \u001b[0mStock\u001b[0m\u001b[1;33m(\u001b[0m\u001b[1;34m'ACME'\u001b[0m\u001b[1;33m,\u001b[0m \u001b[1;36m100\u001b[0m\u001b[1;33m,\u001b[0m \u001b[1;36m123.45\u001b[0m\u001b[1;33m)\u001b[0m\u001b[1;33m\u001b[0m\u001b[0m\n\u001b[1;32m----> 6\u001b[1;33m \u001b[0ms\u001b[0m\u001b[1;33m.\u001b[0m\u001b[0mshares\u001b[0m \u001b[1;33m=\u001b[0m \u001b[1;36m75\u001b[0m\u001b[1;33m\u001b[0m\u001b[0m\n\u001b[0m",
      "\u001b[1;31mAttributeError\u001b[0m: can't set attribute"
     ]
    }
   ],
   "source": [
    "from collections import namedtuple\n",
    "\n",
    "Stock = namedtuple('Stock', ['name', 'shares', 'price'])\n",
    "\n",
    "s = Stock('ACME', 100, 123.45)\n",
    "s.shares = 75"
   ]
  },
  {
   "cell_type": "markdown",
   "metadata": {},
   "source": [
    "If you need to change any of the attributes, it can be done using the _replace() method\n",
    "of a namedtuple instance, which makes an entirely new namedtuple with specified values\n",
    "replaced."
   ]
  },
  {
   "cell_type": "code",
   "execution_count": 54,
   "metadata": {},
   "outputs": [
    {
     "name": "stdout",
     "output_type": "stream",
     "text": [
      "Stock(name='ACME', shares=75, price=123.45)\n"
     ]
    }
   ],
   "source": [
    "from collections import namedtuple\n",
    "\n",
    "Stock = namedtuple('Stock', 'name shares price')\n",
    "\n",
    "s = Stock(name='ACME', shares=100, price=123.45)\n",
    "s = s._replace(shares=75)\n",
    "print (s)"
   ]
  },
  {
   "cell_type": "markdown",
   "metadata": {},
   "source": [
    "A subtle use of the _replace() method is that it can be a convenient way to populate\n",
    "named tuples that have optional or missing fields. To do this, you make a prototype\n",
    "tuple containing the default values and then use _replace() to create new instances\n",
    "with values replaced."
   ]
  },
  {
   "cell_type": "code",
   "execution_count": 39,
   "metadata": {},
   "outputs": [
    {
     "name": "stdout",
     "output_type": "stream",
     "text": [
      "Stock(name='ACME', shares=100, price=123.45, date=None, time=None)\n",
      "Stock(name='ACME', shares=100, price=123.45, date='12/17/2012', time=None)\n"
     ]
    }
   ],
   "source": [
    "from collections import namedtuple\n",
    "\n",
    "Stock = namedtuple('Stock', ['name', 'shares', 'price', 'date', 'time'])\n",
    "\n",
    "# Create a prototype instance\n",
    "stock_prototype = Stock('', 0, 0.0, None, None)\n",
    "\n",
    "# Function to convert a dictionary to a Stock\n",
    "def dict_to_stock(s):\n",
    "    return stock_prototype._replace(**s)\n",
    "\n",
    "a = {'name': 'ACME', 'shares': 100, 'price': 123.45}\n",
    "print (dict_to_stock(a))\n",
    "\n",
    "b = {'name': 'ACME', 'shares': 100, 'price': 123.45, 'date': '12/17/2012'}\n",
    "print (dict_to_stock(b))"
   ]
  },
  {
   "cell_type": "markdown",
   "metadata": {},
   "source": [
    "<hr>\n",
    "### Transforming and Reducing Data at the Same Time\n",
    "\n",
    "#### You need to execute a reduction function (e.g., sum(), min(), max()), but first need to transform or filter the data.\n",
    "\n",
    "A very elegant way to combine a data reduction and a transformation is to use a\n",
    "generator-expression argument."
   ]
  },
  {
   "cell_type": "code",
   "execution_count": 37,
   "metadata": {},
   "outputs": [
    {
     "name": "stdout",
     "output_type": "stream",
     "text": [
      "55\n",
      "No python\n",
      "20\n",
      "{'name': 'AOL', 'shares': 20}\n"
     ]
    }
   ],
   "source": [
    "nums = [1, 2, 3, 4, 5]\n",
    "s = sum(x**2 for x in nums)\n",
    "print (s)\n",
    "\n",
    "\n",
    "import os\n",
    "files = os.listdir('C:/Pharji_projects')\n",
    "if any(name.endswith('.py') for name in files):\n",
    "    print('python')\n",
    "else:\n",
    "    print ('No python')\n",
    "\n",
    "from operator import itemgetter\n",
    "\n",
    "portfolio = [\n",
    "    {'name':'GOOG', 'shares': 50},\n",
    "    {'name':'YHOO', 'shares': 75},\n",
    "    {'name':'AOL', 'shares': 20},\n",
    "    {'name':'SCOX', 'shares': 65}\n",
    "]\n",
    "min_shares = min(s['shares'] for s in portfolio)\n",
    "print (min_shares)\n",
    "\n",
    "min_shares = min(portfolio, key=itemgetter('shares'))  ## alternative\n",
    "print (min_shares)"
   ]
  },
  {
   "cell_type": "markdown",
   "metadata": {},
   "source": [
    "<hr>\n",
    "### Combining Multiple mappings into single mapping\n",
    "\n",
    "#### You have multiple dictionaries or mappings that you want to logically combine into a single mapping to perform certain operations, such as looking up values or checking for the existence of keys.\n",
    "\n",
    "easy way to do this is to use the `ChainMap` class from the collections module."
   ]
  },
  {
   "cell_type": "code",
   "execution_count": 16,
   "metadata": {},
   "outputs": [
    {
     "name": "stdout",
     "output_type": "stream",
     "text": [
      "1\n",
      "2\n",
      "3\n"
     ]
    }
   ],
   "source": [
    "from collections import ChainMap\n",
    "\n",
    "a = {'x': 1, 'z': 3 }\n",
    "b = {'y': 2, 'z': 4 }\n",
    "\n",
    "c = ChainMap(a, b)\n",
    "print(c['x'])   # Outputs 1 (from a)\n",
    "print(c['y'])   # Outputs 2 (from b)\n",
    "print(c['z'])   # Outputs 3 (from a)\n",
    "\n"
   ]
  },
  {
   "cell_type": "code",
   "execution_count": 18,
   "metadata": {},
   "outputs": [
    {
     "name": "stdout",
     "output_type": "stream",
     "text": [
      "ChainMap with 3 mappings:  ChainMap({'x': 3}, {'x': 2}, {'x': 1})\n",
      "3\n",
      "2\n",
      "1\n",
      "ChainMap({'x': 1})\n"
     ]
    }
   ],
   "source": [
    "values = ChainMap()\n",
    "values['x'] = 1\n",
    "# Add a new mapping\n",
    "values = values.new_child()\n",
    "values['x'] = 2\n",
    "# Add a new mapping\n",
    "values = values.new_child()\n",
    "values['x'] = 3\n",
    "print ('ChainMap with 3 mappings: ', values)\n",
    "\n",
    "print (values['x'])\n",
    "\n",
    "# Discard last mapping\n",
    "values = values.parents\n",
    "print (values['x'])\n",
    "\n",
    "# Discard last mapping\n",
    "values = values.parents\n",
    "print (values['x'])\n",
    "\n",
    "print (values)"
   ]
  },
  {
   "cell_type": "markdown",
   "metadata": {},
   "source": [
    "As as alternative to ChainMap, you might consider merging dictionaries together using the update() method."
   ]
  },
  {
   "cell_type": "code",
   "execution_count": 20,
   "metadata": {},
   "outputs": [
    {
     "name": "stdout",
     "output_type": "stream",
     "text": [
      "{'y': 2, 'z': 3, 'x': 1}\n",
      "1\n",
      "2\n",
      "3\n"
     ]
    }
   ],
   "source": [
    "a = {'x': 1, 'z': 3 }\n",
    "b = {'y': 2, 'z': 4 }\n",
    "\n",
    "merged = dict(b)\n",
    "merged.update(a)\n",
    "\n",
    "print (merged)\n",
    "\n",
    "print (merged['x'])\n",
    "print (merged['y'])\n",
    "print (merged['z'])"
   ]
  },
  {
   "cell_type": "markdown",
   "metadata": {},
   "source": [
    "This works, but it requires you to make a completely separate dictionary object (or\n",
    "destructively alter one of the existing dictionaries). Also, if any of the original dictionaries\n",
    "mutate, the changes don’t get reflected in the merged dictionary."
   ]
  },
  {
   "cell_type": "code",
   "execution_count": 26,
   "metadata": {},
   "outputs": [
    {
     "name": "stdout",
     "output_type": "stream",
     "text": [
      "1\n",
      "1\n",
      "42\n"
     ]
    }
   ],
   "source": [
    "a = {'x': 1, 'z': 3 }\n",
    "b = {'y': 2, 'z': 4 }\n",
    "\n",
    "merged = dict(b)\n",
    "merged.update(a)\n",
    "\n",
    "a['x'] = 13\n",
    "print (merged['x'])   ### Value did not change\n",
    "\n",
    "\n",
    "a = {'x': 1, 'z': 3 }\n",
    "b = {'y': 2, 'z': 4 }\n",
    "merged = ChainMap(a, b)\n",
    "print (merged['x'])\n",
    "a['x'] = 42\n",
    "print (merged['x'])   ### Value is changed "
   ]
  }
 ],
 "metadata": {
  "kernelspec": {
   "display_name": "Python 3",
   "language": "python",
   "name": "python3"
  },
  "language_info": {
   "codemirror_mode": {
    "name": "ipython",
    "version": 3
   },
   "file_extension": ".py",
   "mimetype": "text/x-python",
   "name": "python",
   "nbconvert_exporter": "python",
   "pygments_lexer": "ipython3",
   "version": "3.6.3"
  }
 },
 "nbformat": 4,
 "nbformat_minor": 2
}
