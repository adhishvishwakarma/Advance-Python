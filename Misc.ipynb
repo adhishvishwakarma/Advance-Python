{
 "cells": [
  {
   "cell_type": "markdown",
   "metadata": {},
   "source": [
    "## Unpacking Elements from Iterables of Arbitrary Length\n",
    "\n",
    "Python **'star expressions'** can be used to address this problem (Python 3)\n"
   ]
  },
  {
   "cell_type": "code",
   "execution_count": 10,
   "metadata": {},
   "outputs": [
    {
     "name": "stdout",
     "output_type": "stream",
     "text": [
      "Name:  Dave\n",
      "Email:  dave@example.com\n",
      "Phone Number:  ['773-555-1212', '847-555-1212']\n"
     ]
    }
   ],
   "source": [
    "user_record = ('Dave', 'dave@example.com', '773-555-1212', '847-555-1212')\n",
    "name, email, *phone_numbers = user_record\n",
    "\n",
    "print (\"Name: \", name)\n",
    "print (\"Email: \", email)\n",
    "print (\"Phone Number: \", phone_numbers)"
   ]
  },
  {
   "cell_type": "markdown",
   "metadata": {},
   "source": [
    "<hr>\n",
    "#### The starred variable can also be the first one in the list."
   ]
  },
  {
   "cell_type": "code",
   "execution_count": 20,
   "metadata": {},
   "outputs": [
    {
     "name": "stdout",
     "output_type": "stream",
     "text": [
      "[10, 8, 7, 1, 9, 5, 10]\n",
      "3\n"
     ]
    }
   ],
   "source": [
    "*trailing, current = [10, 8, 7, 1, 9, 5, 10, 3]\n",
    "print (trailing)\n",
    "print (current)"
   ]
  },
  {
   "cell_type": "markdown",
   "metadata": {},
   "source": [
    "#### It is worth noting that the star syntax can be especially useful when iterating over a sequence of tuples of varying length."
   ]
  },
  {
   "cell_type": "code",
   "execution_count": 12,
   "metadata": {},
   "outputs": [
    {
     "name": "stdout",
     "output_type": "stream",
     "text": [
      "foo 1 2\n",
      "bar hello\n",
      "foo 3 4\n"
     ]
    }
   ],
   "source": [
    "\n",
    "records = [\n",
    "    ('foo', 1, 2),\n",
    "    ('bar', 'hello'),\n",
    "    ('foo', 3, 4),\n",
    "]\n",
    "def do_foo(x, y):\n",
    "    print('foo', x, y)\n",
    "def do_bar(s):\n",
    "    print('bar', s)\n",
    "for tag, *args in records:\n",
    "    if tag == 'foo':\n",
    "        do_foo(*args)\n",
    "    elif tag == 'bar':\n",
    "        do_bar(*args)"
   ]
  },
  {
   "cell_type": "markdown",
   "metadata": {},
   "source": [
    "<hr>\n",
    "#### Star unpacking can also be useful when combined with certain kinds of string processing operations, such as splitting."
   ]
  },
  {
   "cell_type": "code",
   "execution_count": 22,
   "metadata": {},
   "outputs": [
    {
     "name": "stdout",
     "output_type": "stream",
     "text": [
      "nobody\n",
      "/var/empty\n",
      "/usr/bin/false\n"
     ]
    }
   ],
   "source": [
    "\n",
    "line = 'nobody:*:-2:-2:Unprivileged User:/var/empty:/usr/bin/false'\n",
    "uname, *fields, homedir, sh = line.split(':')\n",
    "print (uname)\n",
    "print (homedir)\n",
    "print (sh)\n"
   ]
  },
  {
   "cell_type": "markdown",
   "metadata": {
    "collapsed": true
   },
   "source": [
    "<hr>\n",
    "### Keeping the Last N Items\n",
    "#### You want to keep a limited history of the last few items seen during iteration or during some other kind of processing.\n",
    "\n",
    "Keeping a limited history is a perfect use for a collections.deque. Using deque(maxlen=N) creates a fixed-sized queue. When new items are added and\n",
    "the queue is full, the oldest item is automatically removed."
   ]
  },
  {
   "cell_type": "code",
   "execution_count": 5,
   "metadata": {},
   "outputs": [
    {
     "name": "stdout",
     "output_type": "stream",
     "text": [
      "New Deque of maximum length created: \n",
      "deque([1, 2, 3], maxlen=3)\n",
      "Added item to right and the leftmost item is automatically popped: \n",
      "deque([2, 3, 4], maxlen=3)\n",
      "Added item to left and the rightmost item is automatically popped: \n",
      "deque([5, 2, 3], maxlen=3)\n"
     ]
    }
   ],
   "source": [
    "from collections import deque\n",
    "\n",
    "q = deque(maxlen=3)\n",
    "q.append(1)\n",
    "q.append(2)\n",
    "q.append(3)\n",
    "print ('New Deque of maximum length created: ')\n",
    "print (q)\n",
    "\n",
    "q.append(4)\n",
    "print ('Added item to right and the leftmost item is automatically popped: ')\n",
    "print (q)\n",
    "\n",
    "q.appendleft(5)\n",
    "print ('Added item to left and the rightmost item is automatically popped: ')\n",
    "print (q)"
   ]
  },
  {
   "cell_type": "markdown",
   "metadata": {},
   "source": [
    "Although you could manually perform such operations on a list (e.g., appending, deleting,\n",
    "etc.), the queue solution is far more elegant and runs a lot faster. Adding or popping items from either end of a queue has O(1) complexity. This is unlike\n",
    "a list where inserting or removing items from the front of the list is O(N)."
   ]
  },
  {
   "cell_type": "markdown",
   "metadata": {},
   "source": [
    "<hr>\n",
    "### Finding Largest or Smallest N items\n",
    "#### You want to make a list of the largest or smallest N items in a collection.\n",
    "\n",
    "The heapq module has two functions—nlargest() and nsmallest()—that do exactly\n",
    "what you want.\n"
   ]
  },
  {
   "cell_type": "code",
   "execution_count": 6,
   "metadata": {},
   "outputs": [
    {
     "name": "stdout",
     "output_type": "stream",
     "text": [
      "[66, 45, 33]\n",
      "[-87, -34, 0]\n"
     ]
    }
   ],
   "source": [
    "import heapq\n",
    "\n",
    "nums = [1, 6, 3, 5, 33, -34, 45, 66, -87, 0, 21]\n",
    "\n",
    "print (heapq.nlargest(3, nums))\n",
    "\n",
    "print (heapq.nsmallest(3, nums))\n"
   ]
  },
  {
   "cell_type": "markdown",
   "metadata": {},
   "source": [
    "Both functions also accept a key parameter that allows them to be used with more complicated data structures."
   ]
  },
  {
   "cell_type": "code",
   "execution_count": 12,
   "metadata": {},
   "outputs": [
    {
     "name": "stdout",
     "output_type": "stream",
     "text": [
      "[{'name': 'YHOO', 'shares': 45, 'price': 16.35}, {'name': 'FB', 'shares': 200, 'price': 21.09}, {'name': 'HPQ', 'shares': 35, 'price': 31.75}]\n",
      "[{'name': 'FB', 'shares': 200, 'price': 21.09}]\n"
     ]
    }
   ],
   "source": [
    "portfolio = [\n",
    "    {'name': 'IBM', 'shares': 100, 'price': 91.1},\n",
    "    {'name': 'AAPL', 'shares': 50, 'price': 543.22},\n",
    "    {'name': 'FB', 'shares': 200, 'price': 21.09},\n",
    "    {'name': 'HPQ', 'shares': 35, 'price': 31.75},\n",
    "    {'name': 'YHOO', 'shares': 45, 'price': 16.35},\n",
    "    {'name': 'ACME', 'shares': 75, 'price': 115.65}\n",
    "]\n",
    "\n",
    "cheap = heapq.nsmallest(3, portfolio, key=lambda s: s['price'])\n",
    "print (cheap)\n",
    "\n",
    "max_share = heapq.nlargest(1, portfolio, key=lambda s: s['shares'])\n",
    "print (max_share)"
   ]
  },
  {
   "cell_type": "markdown",
   "metadata": {},
   "source": [
    "If you are looking for the N smallest or largest items and N is small compared to the overall size of the collection, these functions provide superior performance. Underneath the covers, they work by first converting the data into a list where items are ordered as a heap."
   ]
  },
  {
   "cell_type": "code",
   "execution_count": 18,
   "metadata": {},
   "outputs": [
    {
     "name": "stdout",
     "output_type": "stream",
     "text": [
      "[-4, 2, 1, 23, 7, 2, 18, 23, 42, 37, 8]\n"
     ]
    }
   ],
   "source": [
    "import heapq\n",
    "\n",
    "nums = [1, 8, 2, 23, 7, -4, 18, 23, 42, 37, 2]\n",
    "heap = list(nums)\n",
    "\n",
    "heapq.heapify(heap)\n",
    "print (heap)"
   ]
  },
  {
   "cell_type": "markdown",
   "metadata": {},
   "source": [
    "The most important feature of a heap is that heap[0] is always the smallest item. Moreover,\n",
    "subsequent items can be easily found using the heapq.heappop() method, which\n",
    "pops off the first item and replaces it with the next smallest item (an operation that\n",
    "requires O(log N) operations where N is the size of the heap)."
   ]
  },
  {
   "cell_type": "code",
   "execution_count": 19,
   "metadata": {},
   "outputs": [
    {
     "name": "stdout",
     "output_type": "stream",
     "text": [
      "-4\n",
      "[1, 2, 2, 23, 7, 8, 18, 23, 42, 37]\n",
      "1\n",
      "[2, 2, 8, 23, 7, 37, 18, 23, 42]\n"
     ]
    }
   ],
   "source": [
    "print (heapq.heappop(heap))\n",
    "print (heap)\n",
    "\n",
    "print (heapq.heappop(heap))\n",
    "print (heap)"
   ]
  },
  {
   "cell_type": "markdown",
   "metadata": {},
   "source": [
    "The **nlargest()** and **nsmallest()** functions are most appropriate if you are trying to find a relatively small number of items. \n",
    "\n",
    "If you are simply trying to find the single smallest or largest item (N=1), it is faster to use min() and max(). \n",
    "\n",
    "Similarly, if N is about the same size as the collection itself, it is usually faster to sort it first and take a slice (i.e.,\n",
    "use sorted(items)[:N] or sorted(items)[-N:]).\n",
    "\n",
    "It should be noted that the actual\n",
    "implementation of nlargest() and nsmallest() is adaptive in how it operates and will\n",
    "carry out some of these optimizations on your behalf (e.g., using sorting if N is close to\n",
    "the same size as the input)."
   ]
  },
  {
   "cell_type": "markdown",
   "metadata": {},
   "source": [
    "<hr>\n",
    "### Implementing a Priority Queue\n",
    "#### Implement a queue that sorts items by a given priority and always returns the item with the highest priority on each pop operation.\n",
    "\n"
   ]
  },
  {
   "cell_type": "code",
   "execution_count": 9,
   "metadata": {},
   "outputs": [
    {
     "name": "stdout",
     "output_type": "stream",
     "text": [
      "Item(bar)\n",
      "Item(spam)\n",
      "Item(foo)\n",
      "Item(grok)\n"
     ]
    }
   ],
   "source": [
    "import heapq\n",
    "\n",
    "class PriorityQueue:\n",
    "    def __init__(self):\n",
    "        self._queue = []\n",
    "        self._index = 0\n",
    "        \n",
    "    def push(self, item, priority):\n",
    "        heapq.heappush(self._queue, (-priority, self._index, item))\n",
    "        self._index += 1\n",
    "        \n",
    "    def pop(self):\n",
    "        return heapq.heappop(self._queue)[-1]\n",
    "    \n",
    "\n",
    "class Item:\n",
    "    def __init__(self, name):\n",
    "        self.name = name\n",
    "        \n",
    "    def __repr__(self):\n",
    "        return 'Item(%s)' % self.name\n",
    "    \n",
    "q = PriorityQueue()\n",
    "q.push(Item('foo'), 1)\n",
    "q.push(Item('bar'), 5)\n",
    "q.push(Item('spam'), 4)\n",
    "q.push(Item('grok'), 1)\n",
    "\n",
    "print (q.pop())\n",
    "print (q.pop())\n",
    "print (q.pop())\n",
    "print (q.pop())"
   ]
  },
  {
   "cell_type": "markdown",
   "metadata": {},
   "source": [
    "The queue consists of tuples of the form (-priority, index, item). The\n",
    "priority value is negated to get the queue to sort items from highest priority to lowest\n",
    "priority. This is opposite of the normal heap ordering, which sorts from lowest to highest\n",
    "value.\n",
    "The role of the index variable is to properly order items with the same priority level.\n",
    "By keeping a constantly increasing index, the items will be sorted according to the order\n",
    "in which they were inserted. However, the index also serves an important role in making\n",
    "the comparison operations work for items that have the same priority level.\n"
   ]
  },
  {
   "cell_type": "markdown",
   "metadata": {},
   "source": [
    "<hr>\n",
    "### Mapping Keys to Multiple Values in a Dictionary\n",
    "\n",
    "#### You want to make a dictionary that maps keys to more than one value (a so-called “multidict”).\n",
    "\n",
    "Dictionary is a mapping where each key is mapped to a single value. If you want to\n",
    "map keys to multiple values, you need to store the multiple values in another container\n",
    "such as a list or set.\n",
    "\n",
    "To easily construct such dictionaries, you can use defaultdict in the collections\n",
    "module. A feature of defaultdict is that it automatically initializes the first value so\n",
    "you can simply focus on adding items."
   ]
  },
  {
   "cell_type": "code",
   "execution_count": 11,
   "metadata": {},
   "outputs": [
    {
     "name": "stdout",
     "output_type": "stream",
     "text": [
      "defaultdict(<class 'list'>, {'a': [1, 5], 'b': [3]})\n",
      "defaultdict(<class 'list'>, {'TX': ['Austin', 'Houston', 'Dallas'], 'NY': ['Albany', 'Syracuse', 'Buffalo', 'Rochester'], 'CA': ['Sacramento', 'Palo Alto'], 'GA': ['Atlanta']})\n"
     ]
    }
   ],
   "source": [
    "from collections import defaultdict\n",
    "\n",
    "d = defaultdict(list)\n",
    "d['a'].append(1)\n",
    "d['b'].append(3)\n",
    "d['a'].append(5)\n",
    "\n",
    "print (d)\n",
    "\n",
    "\n",
    "city_list = [('TX','Austin'), ('TX','Houston'),\n",
    "             ('NY','Albany'), ('NY', 'Syracuse'),\n",
    "             ('NY', 'Buffalo'), ('NY', 'Rochester'),\n",
    "             ('TX', 'Dallas'), ('CA','Sacramento'),\n",
    "             ('CA', 'Palo Alto'), ('GA', 'Atlanta')]\n",
    "\n",
    "\n",
    "cities_by_state = defaultdict(list)\n",
    "for state, city in city_list:\n",
    "    cities_by_state[state].append(city)\n",
    "\n",
    "print (cities_by_state)\n"
   ]
  },
  {
   "cell_type": "markdown",
   "metadata": {},
   "source": [
    "This recipe is strongly related to the problem of grouping records together in data processing\n",
    "problems."
   ]
  },
  {
   "cell_type": "markdown",
   "metadata": {},
   "source": [
    "<hr>\n",
    "### Keeping Dictionaries in Order\n",
    "\n",
    "#### You want to create a dictionary, and you also want to control the order of items when iterating or serializing.\n",
    "\n",
    "To control the order of items in a dictionary, you can use an OrderedDict from the\n",
    "collections module. It exactly preserves the original insertion order of data when\n",
    "iterating.\n"
   ]
  },
  {
   "cell_type": "code",
   "execution_count": 12,
   "metadata": {},
   "outputs": [
    {
     "name": "stdout",
     "output_type": "stream",
     "text": [
      "a 1\n",
      "b 2\n",
      "c 3\n",
      "d 4\n"
     ]
    }
   ],
   "source": [
    "from collections import OrderedDict\n",
    "\n",
    "d = OrderedDict()\n",
    "d['a'] = 1\n",
    "d['b'] = 2\n",
    "d['c'] = 3\n",
    "d['d'] = 4\n",
    "\n",
    "for key in d:\n",
    "    print (key, d[key])\n"
   ]
  },
  {
   "cell_type": "markdown",
   "metadata": {},
   "source": [
    "An OrderedDict can be particularly useful when you want to build a mapping that you\n",
    "may want to later serialize or encode into a different format. For example, if you want\n",
    "to precisely control the order of fields appearing in a JSON encoding, first building the\n",
    "data in an OrderedDict will do the trick"
   ]
  },
  {
   "cell_type": "code",
   "execution_count": 15,
   "metadata": {},
   "outputs": [
    {
     "name": "stdout",
     "output_type": "stream",
     "text": [
      "{\"a\": 1, \"b\": 2, \"c\": 3, \"d\": 4}\n"
     ]
    }
   ],
   "source": [
    "import json\n",
    "\n",
    "print (json.dumps(d))"
   ]
  },
  {
   "cell_type": "markdown",
   "metadata": {},
   "source": [
    "<hr>\n",
    "### Calculating with dictionaries\n",
    "\n",
    "#### You want to perform various calculations (e.g., minimum value, maximum value, sorting, etc.) on a dictionary of data.\n",
    "\n",
    "In order to perform useful calculations on the dictionary contents, it is often useful to\n",
    "invert the keys and values of the dictionary using zip(). For example, here is how to\n",
    "find the minimum and maximum price and stock name:"
   ]
  },
  {
   "cell_type": "code",
   "execution_count": 25,
   "metadata": {},
   "outputs": [
    {
     "name": "stdout",
     "output_type": "stream",
     "text": [
      "Minimum price:  (10.75, 'FB')\n",
      "Maximum price:  (612.78, 'AAPL')\n",
      "Prices sorted in desc order [(10.75, 'FB'), (37.2, 'HPQ'), (45.23, 'ACME'), (205.55, 'IBM'), (612.78, 'AAPL')]\n"
     ]
    },
    {
     "data": {
      "text/plain": [
       "10.75"
      ]
     },
     "execution_count": 25,
     "metadata": {},
     "output_type": "execute_result"
    }
   ],
   "source": [
    "prices = {\n",
    "    'ACME': 45.23,\n",
    "    'AAPL': 612.78,\n",
    "    'IBM': 205.55,\n",
    "    'HPQ': 37.20,\n",
    "    'FB': 10.75\n",
    "}\n",
    "\n",
    "min_price = min(zip(prices.values(), prices.keys()))\n",
    "print ('Minimum price: ', min_price)\n",
    "\n",
    "max_price = max(zip(prices.values(), prices.keys()))\n",
    "print ('Maximum price: ', max_price)\n",
    "\n",
    "prices_sorted = sorted(zip(prices.values(), prices.keys()))\n",
    "print ('Prices sorted in desc order', prices_sorted)\n",
    "\n",
    "\n",
    "min(prices, key=lambda k:prices[k])\n",
    "prices[min(prices, key=lambda k:prices[k])]"
   ]
  },
  {
   "cell_type": "markdown",
   "metadata": {},
   "source": [
    "The solution involving zip() solves the problem by “inverting” the dictionary into a\n",
    "sequence of (value, key) pairs. When performing comparisons on such tuples, the\n",
    "value element is compared first, followed by the key. This gives you exactly the behavior\n",
    "that you want and allows reductions and sorting to be easily performed on the dictionary\n",
    "contents using a single statement.\n",
    "\n",
    "It should be noted that in calculations involving (value, key) pairs, the key will be\n",
    "used to determine the result in instances where multiple entries happen to have the same\n",
    "value. For instance, in calculations such as min() and max(), the entry with the smallest\n",
    "or largest key will be returned if there happen to be duplicate values. For example"
   ]
  },
  {
   "cell_type": "code",
   "execution_count": 26,
   "metadata": {},
   "outputs": [
    {
     "name": "stdout",
     "output_type": "stream",
     "text": [
      "(45.23, 'AAA')\n",
      "(45.23, 'ZZZ')\n"
     ]
    }
   ],
   "source": [
    "prices = { 'AAA' : 45.23, 'ZZZ': 45.23 }\n",
    "print (min(zip(prices.values(), prices.keys())))\n",
    "print (max(zip(prices.values(), prices.keys())))"
   ]
  },
  {
   "cell_type": "markdown",
   "metadata": {},
   "source": [
    "### Finding common between two dictionaries\n",
    "\n",
    "#### You have two dictionaries and want to find out what they might have in common (same keys, same values, etc.).\n"
   ]
  },
  {
   "cell_type": "code",
   "execution_count": null,
   "metadata": {
    "collapsed": true
   },
   "outputs": [],
   "source": [
    "a = {\n",
    "    'x': 1,\n",
    "    'y': 2,\n",
    "    'z': 3\n",
    "}\n",
    "\n",
    "b = {\n",
    "    'w': 10,\n",
    "    'x': 11,\n",
    "    'y': 2\n",
    "}\n",
    "\n",
    "print ('Find keys in common: ')\n",
    "print (a.keys() & b.keys())\n",
    "\n",
    "print ('\\nFind keys in a that are not in b: ')\n",
    "print (a.keys() - b.keys())\n",
    "\n",
    "print ('\\nFind (key, value) pairs in common')\n",
    "print (a.items() & b.items())\n",
    "\n",
    "print ('\\nMake a new dictionary with certain keys removed')\n",
    "c = {key:a[key] for key in a.keys() - {'z', 'w'}}\n",
    "print (c)"
   ]
  },
  {
   "cell_type": "markdown",
   "metadata": {},
   "source": [
    "A dictionary is a mapping between a set of keys and values. The keys() method of a\n",
    "dictionary returns a keys-view object that exposes the keys. A little-known feature of\n",
    "keys views is that they also support common set operations such as unions, intersections,\n",
    "and differences. Thus, if you need to perform common set operations with dictionary\n",
    "keys, you can often just use the keys-view objects directly without first converting them\n",
    "into a set.\n",
    "\n",
    "The items() method of a dictionary returns an items-view object consisting of (key,\n",
    "value) pairs. This object supports similar set operations and can be used to perform\n",
    "operations such as finding out which key-value pairs two dictionaries have in common.\n",
    "\n",
    "Although similar, the values() method of a dictionary does not support the set operations\n",
    "described in this recipe. In part, this is due to the fact that unlike keys, the items\n",
    "contained in a values view aren’t guaranteed to be unique. This alone makes certain set\n",
    "operations of questionable utility. However, if you must perform such calculations, they\n",
    "can be accomplished by simply converting the values to a set first."
   ]
  },
  {
   "cell_type": "markdown",
   "metadata": {},
   "source": [
    "### Removing duplicates while maintaining order from a sequence\n",
    "\n",
    "If the values in the sequence are hashable, the problem can be easily solved using a set\n",
    "and a generator."
   ]
  },
  {
   "cell_type": "code",
   "execution_count": 38,
   "metadata": {},
   "outputs": [
    {
     "name": "stdout",
     "output_type": "stream",
     "text": [
      "[1, 5, 6, 2, 9, 10]\n"
     ]
    }
   ],
   "source": [
    "def dedupe(items):\n",
    "    seen = set()\n",
    "    for item in items:\n",
    "        if item not in seen:\n",
    "            yield item\n",
    "            seen.add(item)\n",
    "            \n",
    "a = [1, 5, 6, 2, 1, 9, 2, 5, 10]\n",
    "\n",
    "print (list(dedupe(a)))\n"
   ]
  },
  {
   "cell_type": "markdown",
   "metadata": {},
   "source": [
    "If you are trying to eliminate\n",
    "duplicates in a sequence of unhashable types (such as dicts), you can make a slight\n",
    "change to this recipe, as follows:"
   ]
  },
  {
   "cell_type": "code",
   "execution_count": 40,
   "metadata": {},
   "outputs": [
    {
     "name": "stdout",
     "output_type": "stream",
     "text": [
      "[{'x': 1, 'y': 2}, {'x': 1, 'y': 3}, {'x': 2, 'y': 4}]\n",
      "[{'x': 1, 'y': 2}, {'x': 2, 'y': 4}]\n"
     ]
    }
   ],
   "source": [
    "def dedupe(items, key=None):\n",
    "    seen = set()\n",
    "    for item in items:\n",
    "        val = item if key is None else key(item)\n",
    "        if val not in seen:\n",
    "            yield item\n",
    "            seen.add(val)\n",
    "            \n",
    "\n",
    "a = [ {'x':1, 'y':2}, {'x':1, 'y':3}, {'x':1, 'y':2}, {'x':2, 'y':4}]\n",
    "\n",
    "print (list(dedupe(a, key=lambda d: (d['x'], d['y']))))\n",
    "\n",
    "print (list(dedupe(a, key=lambda d: (d['x']))))\n"
   ]
  }
 ],
 "metadata": {
  "kernelspec": {
   "display_name": "Python 3",
   "language": "python",
   "name": "python3"
  },
  "language_info": {
   "codemirror_mode": {
    "name": "ipython",
    "version": 3
   },
   "file_extension": ".py",
   "mimetype": "text/x-python",
   "name": "python",
   "nbconvert_exporter": "python",
   "pygments_lexer": "ipython3",
   "version": "3.6.3"
  }
 },
 "nbformat": 4,
 "nbformat_minor": 2
}
